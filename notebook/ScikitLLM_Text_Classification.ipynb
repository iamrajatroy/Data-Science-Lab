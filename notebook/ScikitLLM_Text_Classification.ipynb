{
  "nbformat": 4,
  "nbformat_minor": 0,
  "metadata": {
    "colab": {
      "provenance": []
    },
    "kernelspec": {
      "name": "python3",
      "display_name": "Python 3"
    },
    "language_info": {
      "name": "python"
    }
  },
  "cells": [
    {
      "cell_type": "code",
      "execution_count": null,
      "metadata": {
        "id": "NczEJw3QrPHn"
      },
      "outputs": [],
      "source": [
        "# !pip install scikit-llm"
      ]
    },
    {
      "cell_type": "code",
      "source": [
        "import pandas as pd"
      ],
      "metadata": {
        "id": "6SCfwhtlrfTg"
      },
      "execution_count": null,
      "outputs": []
    },
    {
      "cell_type": "code",
      "source": [
        "df = pd.read_csv(\"/content/spam.csv\", encoding=\"latin-1\")"
      ],
      "metadata": {
        "id": "RcmyT6x3dGW_"
      },
      "execution_count": null,
      "outputs": []
    },
    {
      "cell_type": "code",
      "source": [
        "df = df[[\"v1\", \"v2\"]]"
      ],
      "metadata": {
        "id": "oI0813Qlec9G"
      },
      "execution_count": null,
      "outputs": []
    },
    {
      "cell_type": "code",
      "source": [
        "df.head()"
      ],
      "metadata": {
        "id": "7j6sG32DdLpf"
      },
      "execution_count": null,
      "outputs": []
    },
    {
      "cell_type": "code",
      "source": [
        "df = df.sample(50, random_state=42)"
      ],
      "metadata": {
        "id": "l0X1XBbLgPcT"
      },
      "execution_count": null,
      "outputs": []
    },
    {
      "cell_type": "code",
      "source": [
        "df.shape"
      ],
      "metadata": {
        "id": "WJxY9HBqgN5m"
      },
      "execution_count": null,
      "outputs": []
    },
    {
      "cell_type": "code",
      "source": [
        "import os\n",
        "from sklearn.model_selection import train_test_split\n",
        "from sklearn.metrics import classification_report, confusion_matrix"
      ],
      "metadata": {
        "id": "ciU3m7beebT_"
      },
      "execution_count": null,
      "outputs": []
    },
    {
      "cell_type": "code",
      "source": [
        "X_train, X_test, y_train, y_test = train_test_split(\n",
        "    df[['v2']], df[['v1']], test_size=0.3, random_state=42)"
      ],
      "metadata": {
        "id": "Zly73qVlf2HB"
      },
      "execution_count": null,
      "outputs": []
    },
    {
      "cell_type": "code",
      "source": [],
      "metadata": {
        "id": "NeGmykMuep4j"
      },
      "execution_count": null,
      "outputs": []
    },
    {
      "cell_type": "code",
      "source": [
        "from skllm.models.gpt.classification.zero_shot import ZeroShotGPTClassifier"
      ],
      "metadata": {
        "id": "AwirCSI_fGG-"
      },
      "execution_count": null,
      "outputs": []
    },
    {
      "cell_type": "code",
      "source": [
        "clf = ZeroShotGPTClassifier(model=\"gpt-4o-mini\",\n",
        "                            key=\"\",\n",
        "                            org=\"\")"
      ],
      "metadata": {
        "id": "Ecq-twS8fWcs"
      },
      "execution_count": null,
      "outputs": []
    },
    {
      "cell_type": "code",
      "source": [
        "clf.fit(None, [\"spam\", \"ham\"])"
      ],
      "metadata": {
        "id": "juYz-nonfoDo"
      },
      "execution_count": null,
      "outputs": []
    },
    {
      "cell_type": "code",
      "source": [
        "y_pred = clf.predict(X_test.values)"
      ],
      "metadata": {
        "id": "ADMKpAgxft7Z"
      },
      "execution_count": null,
      "outputs": []
    },
    {
      "cell_type": "code",
      "source": [
        "y_pred"
      ],
      "metadata": {
        "id": "GQgNmfHLgLBn"
      },
      "execution_count": null,
      "outputs": []
    },
    {
      "cell_type": "code",
      "source": [
        "print(\"Classification Report: \\n\", classification_report(y_test, y_pred))\n",
        "print(\"\\n\\n\")\n",
        "print(\"Confusion Matrix: \\n\", confusion_matrix(y_test, y_pred))"
      ],
      "metadata": {
        "id": "GSnpmuXOhDVT"
      },
      "execution_count": null,
      "outputs": []
    },
    {
      "cell_type": "code",
      "source": [
        "from skllm.models.gpt.classification.few_shot import FewShotGPTClassifier"
      ],
      "metadata": {
        "id": "fsSUaFZThVSd"
      },
      "execution_count": null,
      "outputs": []
    },
    {
      "cell_type": "code",
      "source": [
        "clf = FewShotGPTClassifier(model=\"gpt-4o-mini\",\n",
        "                            key=\"\",\n",
        "                            org=\"\")"
      ],
      "metadata": {
        "id": "M1q5cr7Ehd1l"
      },
      "execution_count": null,
      "outputs": []
    },
    {
      "cell_type": "code",
      "source": [
        "clf.fit(X_train.values, y_train.values)"
      ],
      "metadata": {
        "id": "PGRaVZLahdyi"
      },
      "execution_count": null,
      "outputs": []
    },
    {
      "cell_type": "code",
      "source": [
        "y_pred = clf.predict(X_test.values)"
      ],
      "metadata": {
        "id": "Ieg26ooLhdvp"
      },
      "execution_count": null,
      "outputs": []
    },
    {
      "cell_type": "code",
      "source": [
        "print(\"Classification Report: \\n\", classification_report(y_test, y_pred))\n",
        "print(\"\\n\\n\")\n",
        "print(\"Confusion Matrix: \\n\", confusion_matrix(y_test, y_pred))"
      ],
      "metadata": {
        "id": "fUoSJev1h0Hi"
      },
      "execution_count": null,
      "outputs": []
    },
    {
      "cell_type": "code",
      "source": [
        "from skllm.models.gpt.classification.few_shot import DynamicFewShotGPTClassifier"
      ],
      "metadata": {
        "id": "zYb-EhwyiSH2"
      },
      "execution_count": null,
      "outputs": []
    },
    {
      "cell_type": "code",
      "source": [
        "clf = DynamicFewShotGPTClassifier(model=\"gpt-4o-mini\",\n",
        "                            key=\"\",\n",
        "                            org=\"\",\n",
        "                            n_examples=4)"
      ],
      "metadata": {
        "id": "KTXYHfS6iSFf"
      },
      "execution_count": null,
      "outputs": []
    },
    {
      "cell_type": "code",
      "source": [
        "clf.fit(X_train.values, y_train.values)"
      ],
      "metadata": {
        "id": "SfyVfuKiiSC4"
      },
      "execution_count": null,
      "outputs": []
    },
    {
      "cell_type": "code",
      "source": [
        "y_pred = clf.predict(X_test.values)"
      ],
      "metadata": {
        "id": "l1rVl9mViSAL"
      },
      "execution_count": null,
      "outputs": []
    },
    {
      "cell_type": "code",
      "source": [
        "print(\"Classification Report: \\n\", classification_report(y_test, y_pred))\n",
        "print(\"\\n\\n\")\n",
        "print(\"Confusion Matrix: \\n\", confusion_matrix(y_test, y_pred))"
      ],
      "metadata": {
        "id": "BEZggaHAh4zZ"
      },
      "execution_count": null,
      "outputs": []
    },
    {
      "cell_type": "code",
      "source": [
        "from skllm.models.gpt.classification.zero_shot import CoTGPTClassifier"
      ],
      "metadata": {
        "id": "0Y3JUdytjDlV"
      },
      "execution_count": null,
      "outputs": []
    },
    {
      "cell_type": "code",
      "source": [
        "clf = CoTGPTClassifier(model=\"gpt-4o-mini\",\n",
        "                            key=\"\",\n",
        "                            org=\"\")"
      ],
      "metadata": {
        "id": "f0RbI6rMjDi_"
      },
      "execution_count": null,
      "outputs": []
    },
    {
      "cell_type": "code",
      "source": [
        "clf.fit(X_train['v2'], y_train['v1'])"
      ],
      "metadata": {
        "id": "I1-ulNFdjDgN"
      },
      "execution_count": null,
      "outputs": []
    },
    {
      "cell_type": "code",
      "source": [
        "y_pred = clf.predict(X_test['v2'])"
      ],
      "metadata": {
        "id": "_zW5oWBQjBjs"
      },
      "execution_count": null,
      "outputs": []
    },
    {
      "cell_type": "code",
      "source": [
        "X_test['v2'].iloc[4]"
      ],
      "metadata": {
        "id": "zbe-g2Y9kybQ"
      },
      "execution_count": null,
      "outputs": []
    },
    {
      "cell_type": "code",
      "source": [
        "label, reason = y_pred[4]\n",
        "\n",
        "print(f\"Category: {label}\")\n",
        "print(f\"Reason: {reason}\")"
      ],
      "metadata": {
        "id": "eL5jkbyujgof"
      },
      "execution_count": null,
      "outputs": []
    },
    {
      "cell_type": "code",
      "source": [],
      "metadata": {
        "id": "Zag1KesSjiTm"
      },
      "execution_count": null,
      "outputs": []
    }
  ]
}