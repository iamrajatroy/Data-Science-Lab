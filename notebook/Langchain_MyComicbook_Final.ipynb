{
  "nbformat": 4,
  "nbformat_minor": 0,
  "metadata": {
    "colab": {
      "provenance": [],
      "collapsed_sections": [
        "BHdwsEzv2kQn"
      ]
    },
    "kernelspec": {
      "name": "python3",
      "display_name": "Python 3"
    },
    "language_info": {
      "name": "python"
    }
  },
  "cells": [
    {
      "cell_type": "markdown",
      "source": [
        "# My Comic Book\n",
        "\n",
        "### DIY comic book using Generative AI\n",
        "#### Create your comic with just a single prompt"
      ],
      "metadata": {
        "id": "rVEyfCY5TfUL"
      }
    },
    {
      "cell_type": "code",
      "execution_count": null,
      "metadata": {
        "id": "Y-gafFK11IoF"
      },
      "outputs": [],
      "source": [
        "# !apt-get update\n",
        "# !apt-get install -y libreoffice\n",
        "# !pip install openai tiktoken langchain replicate kor python-docx unoconv"
      ]
    },
    {
      "cell_type": "markdown",
      "source": [
        "## Setup environment variables"
      ],
      "metadata": {
        "id": "Weq2c2J414Kz"
      }
    },
    {
      "cell_type": "code",
      "source": [
        "import os\n",
        "os.environ[\"REPLICATE_API_TOKEN\"] = \"PASTE_TOKEN_HERE\"\n",
        "os.environ[\"OPENAI_API_KEY\"] = \"PASTE_TOKEN_HERE\"\n",
        "os.environ[\"OPENAI_ORGANIZATION\"] = \"PASTE_ORG_ID__HERE\""
      ],
      "metadata": {
        "id": "bE91xJf41Oxj"
      },
      "execution_count": null,
      "outputs": []
    },
    {
      "cell_type": "code",
      "source": [
        "from tqdm import tqdm\n",
        "from PIL import Image\n",
        "import requests\n",
        "from io import BytesIO\n",
        "import cv2\n",
        "from google.colab.patches import cv2_imshow\n",
        "\n",
        "from docx import Document\n",
        "from docx.shared import Inches, Pt\n",
        "from docx.enum.text import WD_PARAGRAPH_ALIGNMENT\n",
        "\n",
        "import subprocess\n",
        "\n",
        "from langchain import PromptTemplate, LLMChain\n",
        "from langchain.llms import Replicate, OpenAI"
      ],
      "metadata": {
        "id": "tnaCISdY1Op_"
      },
      "execution_count": null,
      "outputs": []
    },
    {
      "cell_type": "markdown",
      "source": [
        "## Create Prompt Template"
      ],
      "metadata": {
        "id": "BHdwsEzv2kQn"
      }
    },
    {
      "cell_type": "code",
      "source": [
        "template = \"\"\"Write a short story about {topic}.\n",
        "First generate a title for the story and a cover picture. Make the story in a narrative format.\n",
        "Divide it into 5 chapters. Limit each chapter to 200 words. Also generate a prompt for an image generation model at the end of each chapter.\n",
        "Always generate the output in following format:\n",
        "\n",
        "Title: Main title of the story\n",
        "Cover Image: Prompt for image generation model\n",
        "Chapter 1:\n",
        "Title: Title of chapter 1\n",
        "Text: Story text of chapter 1\n",
        "Image Prompt: Prompt for image generation model\n",
        "Chapter 2:\n",
        "Title: Title of chapter 2\n",
        "Text: Story text of chapter 2\n",
        "Image Prompt: Prompt for image generation model\n",
        "Chapter n:\n",
        "Title: Title of chapter n\n",
        "Text: Story text of chapter n\n",
        "Image Prompt: Prompt for image generation model\n",
        "\n",
        "\n",
        "\n",
        "\"\"\"\n",
        "\n",
        "prompt = PromptTemplate(template=(template), input_variables=[\"topic\"])"
      ],
      "metadata": {
        "id": "pkPIvUEy1Omp"
      },
      "execution_count": null,
      "outputs": []
    },
    {
      "cell_type": "markdown",
      "source": [
        "## Setup Chain"
      ],
      "metadata": {
        "id": "Xy2L-8GP2u-j"
      }
    },
    {
      "cell_type": "code",
      "source": [
        "llm = OpenAI(temperature=0.7, model=\"text-davinci-003\", max_tokens=2000)\n",
        "llm_chain = LLMChain(prompt=prompt, llm=llm)"
      ],
      "metadata": {
        "id": "EqtpP5if1Oi-"
      },
      "execution_count": null,
      "outputs": []
    },
    {
      "cell_type": "markdown",
      "source": [
        "## Generate story based on topic"
      ],
      "metadata": {
        "id": "Ajzb-jw7241_"
      }
    },
    {
      "cell_type": "code",
      "source": [
        "## ENTER YOUR TOPIC HERE\n",
        "topic_text = input()\n",
        "\n",
        "result = llm_chain.run(\n",
        "    topic_text\n",
        ")"
      ],
      "metadata": {
        "id": "SB2vdS121OfV"
      },
      "execution_count": null,
      "outputs": []
    },
    {
      "cell_type": "code",
      "source": [
        "print(result)"
      ],
      "metadata": {
        "id": "MG8yIo_k6Xp1"
      },
      "execution_count": null,
      "outputs": []
    },
    {
      "cell_type": "markdown",
      "source": [
        "## Save the result into a text file"
      ],
      "metadata": {
        "id": "cGNScN953OQo"
      }
    },
    {
      "cell_type": "code",
      "source": [
        "with open(\"story.txt\", 'w+') as file:\n",
        "    file.write(result)"
      ],
      "metadata": {
        "id": "bAmAO16r1Ob9"
      },
      "execution_count": null,
      "outputs": []
    },
    {
      "cell_type": "markdown",
      "source": [
        "## Convert the text into structured (dictionary) format to feed to downstream tasks"
      ],
      "metadata": {
        "id": "oSeaQ9oj3bQX"
      }
    },
    {
      "cell_type": "code",
      "source": [
        "with open('story.txt', 'r') as file:\n",
        "    lines = file.readlines()\n",
        "\n",
        "story = {}\n",
        "is_chapter = False\n",
        "\n",
        "chapters = []\n",
        "chapter_dict = {}\n",
        "\n",
        "for line in lines:\n",
        "\n",
        "\n",
        "\n",
        "    line_sm = line.lower().strip()\n",
        "\n",
        "    if 'title' in line_sm and not is_chapter:\n",
        "        story['title'] = line.split(':')[-1].strip()\n",
        "\n",
        "    if 'title' in line_sm and is_chapter:\n",
        "        chapter_dict['title'] = line.split(':')[-1].strip()\n",
        "\n",
        "    if 'cover image' in line_sm:\n",
        "        story['cover_image'] = line.split(':')[-1].strip()\n",
        "\n",
        "    if 'text' in line_sm:\n",
        "        chapter_dict['text'] = line.split(':')[-1].strip()\n",
        "\n",
        "    if 'image prompt' in line_sm:\n",
        "        chapter_dict['image_prompt'] = line.split(':')[-1].strip()\n",
        "        chapters.append(chapter_dict)\n",
        "\n",
        "    if 'chapter' in line_sm:\n",
        "        is_chapter = True\n",
        "        chapter_dict = {}\n",
        "        continue\n",
        "\n",
        "story['chapters'] = chapters\n",
        "story"
      ],
      "metadata": {
        "id": "7MTtBiqlAIp2"
      },
      "execution_count": null,
      "outputs": []
    },
    {
      "cell_type": "code",
      "source": [
        "image_prompts_dict = {\"cover_image\": story[\"cover_image\"]}\n",
        "image_prompts_dict"
      ],
      "metadata": {
        "id": "OXUILyr44mhA"
      },
      "execution_count": null,
      "outputs": []
    },
    {
      "cell_type": "code",
      "source": [
        "chapter_image_prompts = []\n",
        "for chapter in story[\"chapters\"]:\n",
        "    if \"image_prompt\" in chapter:\n",
        "        chapter_image_prompts.append(chapter[\"image_prompt\"])\n",
        "\n",
        "image_prompts_dict[\"chapter_image_prompts\"] = chapter_image_prompts\n",
        "image_prompts_dict"
      ],
      "metadata": {
        "id": "R2IIzPAa4md4"
      },
      "execution_count": null,
      "outputs": []
    },
    {
      "cell_type": "markdown",
      "source": [
        "### Setup stable diffusion"
      ],
      "metadata": {
        "id": "XAXF4mpZ8eok"
      }
    },
    {
      "cell_type": "code",
      "source": [
        "text2image = Replicate(\n",
        "    model=\"stability-ai/stable-diffusion:db21e45d3f7023abc2a46ee38a23973f6dce16bb082a930b0c49861f96d1e5bf\",\n",
        "    input={\"image_dimensions\": \"512x512\"},\n",
        ")"
      ],
      "metadata": {
        "id": "VMiE67pw79Cl"
      },
      "execution_count": null,
      "outputs": []
    },
    {
      "cell_type": "markdown",
      "source": [
        "## Generate and save images"
      ],
      "metadata": {
        "id": "ocWx5Ghh9OsG"
      }
    },
    {
      "cell_type": "code",
      "source": [
        "generated_images_dict = {}"
      ],
      "metadata": {
        "id": "PtnYK2Nc84Gy"
      },
      "execution_count": null,
      "outputs": []
    },
    {
      "cell_type": "code",
      "source": [
        "img_path = './images/'\n",
        "\n",
        "if not os.path.exists(img_path):\n",
        "    os.makedirs(img_path)"
      ],
      "metadata": {
        "id": "XPsTGnTyObsz"
      },
      "execution_count": null,
      "outputs": []
    },
    {
      "cell_type": "code",
      "source": [
        "style_prompts = \" Graphic Novel, 4K, Global Illumination, Dreamy\""
      ],
      "metadata": {
        "id": "u22MxR_1vDah"
      },
      "execution_count": null,
      "outputs": []
    },
    {
      "cell_type": "code",
      "source": [
        "cover_image_prompt = image_prompts_dict[\"cover_image\"]\n",
        "\n",
        "\n",
        "# style of image\n",
        "cover_image_prompt += style_prompts\n",
        "\n",
        "# execute image generation pipeline\n",
        "image_output = text2image(cover_image_prompt)\n",
        "\n",
        "response = requests.get(image_output)\n",
        "image_output = Image.open(BytesIO(response.content))\n",
        "\n",
        "cover_path = os.path.join(img_path, 'cover_image.jpg')\n",
        "image_output.save(cover_path)\n",
        "\n",
        "generated_images_dict[\"cover_image\"] = cover_path"
      ],
      "metadata": {
        "id": "shmQaLnz78_e"
      },
      "execution_count": null,
      "outputs": []
    },
    {
      "cell_type": "code",
      "source": [
        "chapter_images = []\n",
        "for idx, chapter_image_prompts in tqdm(enumerate(image_prompts_dict[\"chapter_image_prompts\"])):\n",
        "    chapter_image_prompts += style_prompts\n",
        "    image_output = text2image(chapter_image_prompts)\n",
        "    response = requests.get(image_output)\n",
        "    image_output = Image.open(BytesIO(response.content))\n",
        "    chapter_path = os.path.join(img_path, f'chapter_{idx+1}.jpg')\n",
        "    image_output.save(chapter_path)\n",
        "    chapter_images.append(chapter_path)\n",
        "\n",
        "generated_images_dict[\"chapter_images\"] = chapter_images"
      ],
      "metadata": {
        "id": "isSCn6Qx3R59"
      },
      "execution_count": null,
      "outputs": []
    },
    {
      "cell_type": "code",
      "source": [
        "generated_images_dict"
      ],
      "metadata": {
        "id": "yWmdvRYDPQCd"
      },
      "execution_count": null,
      "outputs": []
    },
    {
      "cell_type": "code",
      "source": [
        "\n",
        "# List of image and text combinations\n",
        "image_text_combinations = []\n",
        "chapters = story['chapters']\n",
        "\n",
        "for idx, img_path in enumerate(generated_images_dict['chapter_images']):\n",
        "    chapter_dict = chapters[idx]\n",
        "    story_text = chapter_dict['title'] + '\\n\\n' + chapter_dict['text']\n",
        "    image_text_combinations.append((img_path, story_text))"
      ],
      "metadata": {
        "id": "925zbk9OPpHY"
      },
      "execution_count": null,
      "outputs": []
    },
    {
      "cell_type": "code",
      "source": [],
      "metadata": {
        "id": "XPeLUXbORNs2"
      },
      "execution_count": null,
      "outputs": []
    },
    {
      "cell_type": "markdown",
      "source": [
        "## Put image and text into docx file"
      ],
      "metadata": {
        "id": "x3k8DvMLRqm_"
      }
    },
    {
      "cell_type": "code",
      "source": [
        "\n",
        "# Create a new Word document\n",
        "doc = Document()\n",
        "\n",
        "title = story['title']\n",
        "title_paragraph = doc.add_paragraph(title)\n",
        "title_paragraph.alignment = WD_PARAGRAPH_ALIGNMENT.CENTER\n",
        "title_paragraph.runs[0].bold = True\n",
        "title_paragraph.runs[0].font.size = Pt(18)\n",
        "doc.add_picture(generated_images_dict['cover_image'], width=Inches(4), height=Inches(3))\n",
        "\n",
        "\n",
        "# Loop through each combination and add to the document\n",
        "for image_filename, long_text in image_text_combinations:\n",
        "    doc.add_page_break()  # Add a page break for each combination\n",
        "\n",
        "    # Create a table with 1 row and 2 columns\n",
        "    table = doc.add_table(rows=1, cols=2)\n",
        "    table.autofit = False\n",
        "    table.columns[0].width = Inches(4)  # Adjust the width of the first column\n",
        "    table.columns[1].width = Inches(2)  # Adjust the width of the second column\n",
        "\n",
        "    # Add the image to the first cell\n",
        "    cell_1 = table.cell(0, 0)\n",
        "    image = cell_1.add_paragraph().add_run()\n",
        "    image.add_picture(image_filename, width=Inches(4), height=Inches(3))  # Adjust width as needed\n",
        "\n",
        "    # Add the text to the second cell\n",
        "    cell_2 = table.cell(0, 1)\n",
        "    paragraph = cell_2.add_paragraph(long_text)\n",
        "    paragraph.alignment = WD_PARAGRAPH_ALIGNMENT.CENTER\n",
        "    paragraph.alignment = WD_PARAGRAPH_ALIGNMENT.LEFT\n",
        "\n",
        "# Save the Word document\n",
        "doc.save(\"output.docx\")\n"
      ],
      "metadata": {
        "id": "G5cKTdzgNLAF"
      },
      "execution_count": null,
      "outputs": []
    },
    {
      "cell_type": "markdown",
      "source": [
        "## Convert docx to pdf"
      ],
      "metadata": {
        "id": "puew-VEFRwwu"
      }
    },
    {
      "cell_type": "code",
      "source": [
        "import subprocess\n",
        "\n",
        "input_docx_path = \"output.docx\"  # Replace with your actual input path\n",
        "output_pdf_path = \"output.pdf\"  # Replace with your desired output path\n",
        "\n",
        "try:\n",
        "    subprocess.run([\"unoconv\", \"-f\", \"pdf\", \"-o\", output_pdf_path, input_docx_path], check=True)\n",
        "    print(\"Conversion successful!\")\n",
        "except subprocess.CalledProcessError as e:\n",
        "    print(\"Error:\", e)\n"
      ],
      "metadata": {
        "id": "d6b0y3xsNK86"
      },
      "execution_count": null,
      "outputs": []
    },
    {
      "cell_type": "code",
      "source": [],
      "metadata": {
        "id": "3m4HUfbLtthU"
      },
      "execution_count": null,
      "outputs": []
    }
  ]
}