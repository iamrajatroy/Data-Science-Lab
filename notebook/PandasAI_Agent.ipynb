{
  "nbformat": 4,
  "nbformat_minor": 0,
  "metadata": {
    "colab": {
      "provenance": [],
      "authorship_tag": "ABX9TyOckp/XezgqaOppjkDijPsM",
      "include_colab_link": true
    },
    "kernelspec": {
      "name": "python3",
      "display_name": "Python 3"
    },
    "language_info": {
      "name": "python"
    }
  },
  "cells": [
    {
      "cell_type": "markdown",
      "metadata": {
        "id": "view-in-github",
        "colab_type": "text"
      },
      "source": [
        "<a href=\"https://colab.research.google.com/github/iamrajatroy/Data-Science-Lab/blob/main/notebook/PandasAI_Agent.ipynb\" target=\"_parent\"><img src=\"https://colab.research.google.com/assets/colab-badge.svg\" alt=\"Open In Colab\"/></a>"
      ]
    },
    {
      "cell_type": "code",
      "execution_count": 1,
      "metadata": {
        "id": "4sjQM0I8c1DA"
      },
      "outputs": [],
      "source": [
        "# !pip install pandasai chromadb qdrant-client protobuf==3.20.3"
      ]
    },
    {
      "cell_type": "code",
      "source": [
        "import os\n",
        "import pandas as pd\n",
        "from pandasai.agent import Agent\n",
        "from pandasai.llm.openai import OpenAI\n",
        "from pandasai.ee.vectorstores import ChromaDB"
      ],
      "metadata": {
        "id": "X4UwePXjfAKx"
      },
      "execution_count": 37,
      "outputs": []
    },
    {
      "cell_type": "code",
      "source": [
        "os.environ[\"OPENAI_API_KEY\"] = \"*****\"\n",
        "os.environ[\"PANDASAI_API_KEY\"] = \"*****\""
      ],
      "metadata": {
        "id": "sShk9TXvkM_z"
      },
      "execution_count": 3,
      "outputs": []
    },
    {
      "cell_type": "code",
      "source": [
        "train_file_path = \"/content/sample_data/california_housing_train.csv\""
      ],
      "metadata": {
        "id": "az5AZVE2eTW-"
      },
      "execution_count": 4,
      "outputs": []
    },
    {
      "cell_type": "code",
      "source": [
        "df = pd.read_csv(train_file_path)"
      ],
      "metadata": {
        "id": "L167gBA9e89Y"
      },
      "execution_count": 5,
      "outputs": []
    },
    {
      "cell_type": "code",
      "source": [
        "df= df.sample(n=100, random_state=42)"
      ],
      "metadata": {
        "id": "OE0Ea77ujgcN"
      },
      "execution_count": 6,
      "outputs": []
    },
    {
      "cell_type": "code",
      "source": [
        "df.shape"
      ],
      "metadata": {
        "colab": {
          "base_uri": "https://localhost:8080/"
        },
        "id": "209Iti2Vg2eh",
        "outputId": "c9bd338b-86df-4ebd-be22-01bcdf38d834"
      },
      "execution_count": 7,
      "outputs": [
        {
          "output_type": "execute_result",
          "data": {
            "text/plain": [
              "(100, 9)"
            ]
          },
          "metadata": {},
          "execution_count": 7
        }
      ]
    },
    {
      "cell_type": "code",
      "source": [
        "df"
      ],
      "metadata": {
        "colab": {
          "base_uri": "https://localhost:8080/",
          "height": 424
        },
        "id": "m7G_6f-tmKVs",
        "outputId": "9aadfe93-cb07-4af0-ddb7-b3822190f61e"
      },
      "execution_count": 8,
      "outputs": [
        {
          "output_type": "execute_result",
          "data": {
            "text/plain": [
              "       longitude  latitude  housing_median_age  total_rooms  total_bedrooms  \\\n",
              "10941    -120.87     37.77                 9.0       4838.0           920.0   \n",
              "5250     -118.14     34.11                52.0       2742.0           422.0   \n",
              "10292    -120.05     36.98                16.0       3705.0           739.0   \n",
              "2266     -117.42     34.02                 9.0       5455.0           882.0   \n",
              "6398     -118.26     33.97                52.0       1331.0           346.0   \n",
              "...          ...       ...                 ...          ...             ...   \n",
              "3260     -117.86     33.75                39.0        275.0            87.0   \n",
              "4930     -118.10     33.82                36.0       1930.0           354.0   \n",
              "5007     -118.11     33.83                36.0       1784.0           303.0   \n",
              "15132    -122.26     37.84                52.0        696.0           191.0   \n",
              "14789    -122.20     37.47                37.0       1053.0           266.0   \n",
              "\n",
              "       population  households  median_income  median_house_value  \n",
              "10941      2460.0       923.0         3.5959            142700.0  \n",
              "5250       1153.0       414.0         8.1124            500001.0  \n",
              "10292      2463.0       697.0         2.5288             61800.0  \n",
              "2266       3015.0       858.0         4.2321            162800.0  \n",
              "6398       1144.0       362.0         1.5326             90600.0  \n",
              "...           ...         ...            ...                 ...  \n",
              "3260        554.0       103.0         3.5972            158000.0  \n",
              "4930        915.0       328.0         5.2713            244400.0  \n",
              "5007        964.0       299.0         4.2703            220900.0  \n",
              "15132       345.0       174.0         2.6736            191300.0  \n",
              "14789       939.0       267.0         3.1989            320800.0  \n",
              "\n",
              "[100 rows x 9 columns]"
            ],
            "text/html": [
              "\n",
              "  <div id=\"df-ba77c258-78ee-46ed-b9de-062fe20cf246\" class=\"colab-df-container\">\n",
              "    <div>\n",
              "<style scoped>\n",
              "    .dataframe tbody tr th:only-of-type {\n",
              "        vertical-align: middle;\n",
              "    }\n",
              "\n",
              "    .dataframe tbody tr th {\n",
              "        vertical-align: top;\n",
              "    }\n",
              "\n",
              "    .dataframe thead th {\n",
              "        text-align: right;\n",
              "    }\n",
              "</style>\n",
              "<table border=\"1\" class=\"dataframe\">\n",
              "  <thead>\n",
              "    <tr style=\"text-align: right;\">\n",
              "      <th></th>\n",
              "      <th>longitude</th>\n",
              "      <th>latitude</th>\n",
              "      <th>housing_median_age</th>\n",
              "      <th>total_rooms</th>\n",
              "      <th>total_bedrooms</th>\n",
              "      <th>population</th>\n",
              "      <th>households</th>\n",
              "      <th>median_income</th>\n",
              "      <th>median_house_value</th>\n",
              "    </tr>\n",
              "  </thead>\n",
              "  <tbody>\n",
              "    <tr>\n",
              "      <th>10941</th>\n",
              "      <td>-120.87</td>\n",
              "      <td>37.77</td>\n",
              "      <td>9.0</td>\n",
              "      <td>4838.0</td>\n",
              "      <td>920.0</td>\n",
              "      <td>2460.0</td>\n",
              "      <td>923.0</td>\n",
              "      <td>3.5959</td>\n",
              "      <td>142700.0</td>\n",
              "    </tr>\n",
              "    <tr>\n",
              "      <th>5250</th>\n",
              "      <td>-118.14</td>\n",
              "      <td>34.11</td>\n",
              "      <td>52.0</td>\n",
              "      <td>2742.0</td>\n",
              "      <td>422.0</td>\n",
              "      <td>1153.0</td>\n",
              "      <td>414.0</td>\n",
              "      <td>8.1124</td>\n",
              "      <td>500001.0</td>\n",
              "    </tr>\n",
              "    <tr>\n",
              "      <th>10292</th>\n",
              "      <td>-120.05</td>\n",
              "      <td>36.98</td>\n",
              "      <td>16.0</td>\n",
              "      <td>3705.0</td>\n",
              "      <td>739.0</td>\n",
              "      <td>2463.0</td>\n",
              "      <td>697.0</td>\n",
              "      <td>2.5288</td>\n",
              "      <td>61800.0</td>\n",
              "    </tr>\n",
              "    <tr>\n",
              "      <th>2266</th>\n",
              "      <td>-117.42</td>\n",
              "      <td>34.02</td>\n",
              "      <td>9.0</td>\n",
              "      <td>5455.0</td>\n",
              "      <td>882.0</td>\n",
              "      <td>3015.0</td>\n",
              "      <td>858.0</td>\n",
              "      <td>4.2321</td>\n",
              "      <td>162800.0</td>\n",
              "    </tr>\n",
              "    <tr>\n",
              "      <th>6398</th>\n",
              "      <td>-118.26</td>\n",
              "      <td>33.97</td>\n",
              "      <td>52.0</td>\n",
              "      <td>1331.0</td>\n",
              "      <td>346.0</td>\n",
              "      <td>1144.0</td>\n",
              "      <td>362.0</td>\n",
              "      <td>1.5326</td>\n",
              "      <td>90600.0</td>\n",
              "    </tr>\n",
              "    <tr>\n",
              "      <th>...</th>\n",
              "      <td>...</td>\n",
              "      <td>...</td>\n",
              "      <td>...</td>\n",
              "      <td>...</td>\n",
              "      <td>...</td>\n",
              "      <td>...</td>\n",
              "      <td>...</td>\n",
              "      <td>...</td>\n",
              "      <td>...</td>\n",
              "    </tr>\n",
              "    <tr>\n",
              "      <th>3260</th>\n",
              "      <td>-117.86</td>\n",
              "      <td>33.75</td>\n",
              "      <td>39.0</td>\n",
              "      <td>275.0</td>\n",
              "      <td>87.0</td>\n",
              "      <td>554.0</td>\n",
              "      <td>103.0</td>\n",
              "      <td>3.5972</td>\n",
              "      <td>158000.0</td>\n",
              "    </tr>\n",
              "    <tr>\n",
              "      <th>4930</th>\n",
              "      <td>-118.10</td>\n",
              "      <td>33.82</td>\n",
              "      <td>36.0</td>\n",
              "      <td>1930.0</td>\n",
              "      <td>354.0</td>\n",
              "      <td>915.0</td>\n",
              "      <td>328.0</td>\n",
              "      <td>5.2713</td>\n",
              "      <td>244400.0</td>\n",
              "    </tr>\n",
              "    <tr>\n",
              "      <th>5007</th>\n",
              "      <td>-118.11</td>\n",
              "      <td>33.83</td>\n",
              "      <td>36.0</td>\n",
              "      <td>1784.0</td>\n",
              "      <td>303.0</td>\n",
              "      <td>964.0</td>\n",
              "      <td>299.0</td>\n",
              "      <td>4.2703</td>\n",
              "      <td>220900.0</td>\n",
              "    </tr>\n",
              "    <tr>\n",
              "      <th>15132</th>\n",
              "      <td>-122.26</td>\n",
              "      <td>37.84</td>\n",
              "      <td>52.0</td>\n",
              "      <td>696.0</td>\n",
              "      <td>191.0</td>\n",
              "      <td>345.0</td>\n",
              "      <td>174.0</td>\n",
              "      <td>2.6736</td>\n",
              "      <td>191300.0</td>\n",
              "    </tr>\n",
              "    <tr>\n",
              "      <th>14789</th>\n",
              "      <td>-122.20</td>\n",
              "      <td>37.47</td>\n",
              "      <td>37.0</td>\n",
              "      <td>1053.0</td>\n",
              "      <td>266.0</td>\n",
              "      <td>939.0</td>\n",
              "      <td>267.0</td>\n",
              "      <td>3.1989</td>\n",
              "      <td>320800.0</td>\n",
              "    </tr>\n",
              "  </tbody>\n",
              "</table>\n",
              "<p>100 rows × 9 columns</p>\n",
              "</div>\n",
              "    <div class=\"colab-df-buttons\">\n",
              "\n",
              "  <div class=\"colab-df-container\">\n",
              "    <button class=\"colab-df-convert\" onclick=\"convertToInteractive('df-ba77c258-78ee-46ed-b9de-062fe20cf246')\"\n",
              "            title=\"Convert this dataframe to an interactive table.\"\n",
              "            style=\"display:none;\">\n",
              "\n",
              "  <svg xmlns=\"http://www.w3.org/2000/svg\" height=\"24px\" viewBox=\"0 -960 960 960\">\n",
              "    <path d=\"M120-120v-720h720v720H120Zm60-500h600v-160H180v160Zm220 220h160v-160H400v160Zm0 220h160v-160H400v160ZM180-400h160v-160H180v160Zm440 0h160v-160H620v160ZM180-180h160v-160H180v160Zm440 0h160v-160H620v160Z\"/>\n",
              "  </svg>\n",
              "    </button>\n",
              "\n",
              "  <style>\n",
              "    .colab-df-container {\n",
              "      display:flex;\n",
              "      gap: 12px;\n",
              "    }\n",
              "\n",
              "    .colab-df-convert {\n",
              "      background-color: #E8F0FE;\n",
              "      border: none;\n",
              "      border-radius: 50%;\n",
              "      cursor: pointer;\n",
              "      display: none;\n",
              "      fill: #1967D2;\n",
              "      height: 32px;\n",
              "      padding: 0 0 0 0;\n",
              "      width: 32px;\n",
              "    }\n",
              "\n",
              "    .colab-df-convert:hover {\n",
              "      background-color: #E2EBFA;\n",
              "      box-shadow: 0px 1px 2px rgba(60, 64, 67, 0.3), 0px 1px 3px 1px rgba(60, 64, 67, 0.15);\n",
              "      fill: #174EA6;\n",
              "    }\n",
              "\n",
              "    .colab-df-buttons div {\n",
              "      margin-bottom: 4px;\n",
              "    }\n",
              "\n",
              "    [theme=dark] .colab-df-convert {\n",
              "      background-color: #3B4455;\n",
              "      fill: #D2E3FC;\n",
              "    }\n",
              "\n",
              "    [theme=dark] .colab-df-convert:hover {\n",
              "      background-color: #434B5C;\n",
              "      box-shadow: 0px 1px 3px 1px rgba(0, 0, 0, 0.15);\n",
              "      filter: drop-shadow(0px 1px 2px rgba(0, 0, 0, 0.3));\n",
              "      fill: #FFFFFF;\n",
              "    }\n",
              "  </style>\n",
              "\n",
              "    <script>\n",
              "      const buttonEl =\n",
              "        document.querySelector('#df-ba77c258-78ee-46ed-b9de-062fe20cf246 button.colab-df-convert');\n",
              "      buttonEl.style.display =\n",
              "        google.colab.kernel.accessAllowed ? 'block' : 'none';\n",
              "\n",
              "      async function convertToInteractive(key) {\n",
              "        const element = document.querySelector('#df-ba77c258-78ee-46ed-b9de-062fe20cf246');\n",
              "        const dataTable =\n",
              "          await google.colab.kernel.invokeFunction('convertToInteractive',\n",
              "                                                    [key], {});\n",
              "        if (!dataTable) return;\n",
              "\n",
              "        const docLinkHtml = 'Like what you see? Visit the ' +\n",
              "          '<a target=\"_blank\" href=https://colab.research.google.com/notebooks/data_table.ipynb>data table notebook</a>'\n",
              "          + ' to learn more about interactive tables.';\n",
              "        element.innerHTML = '';\n",
              "        dataTable['output_type'] = 'display_data';\n",
              "        await google.colab.output.renderOutput(dataTable, element);\n",
              "        const docLink = document.createElement('div');\n",
              "        docLink.innerHTML = docLinkHtml;\n",
              "        element.appendChild(docLink);\n",
              "      }\n",
              "    </script>\n",
              "  </div>\n",
              "\n",
              "\n",
              "<div id=\"df-d6e3e0e0-300a-4b1e-91c6-da6b6293f99a\">\n",
              "  <button class=\"colab-df-quickchart\" onclick=\"quickchart('df-d6e3e0e0-300a-4b1e-91c6-da6b6293f99a')\"\n",
              "            title=\"Suggest charts\"\n",
              "            style=\"display:none;\">\n",
              "\n",
              "<svg xmlns=\"http://www.w3.org/2000/svg\" height=\"24px\"viewBox=\"0 0 24 24\"\n",
              "     width=\"24px\">\n",
              "    <g>\n",
              "        <path d=\"M19 3H5c-1.1 0-2 .9-2 2v14c0 1.1.9 2 2 2h14c1.1 0 2-.9 2-2V5c0-1.1-.9-2-2-2zM9 17H7v-7h2v7zm4 0h-2V7h2v10zm4 0h-2v-4h2v4z\"/>\n",
              "    </g>\n",
              "</svg>\n",
              "  </button>\n",
              "\n",
              "<style>\n",
              "  .colab-df-quickchart {\n",
              "      --bg-color: #E8F0FE;\n",
              "      --fill-color: #1967D2;\n",
              "      --hover-bg-color: #E2EBFA;\n",
              "      --hover-fill-color: #174EA6;\n",
              "      --disabled-fill-color: #AAA;\n",
              "      --disabled-bg-color: #DDD;\n",
              "  }\n",
              "\n",
              "  [theme=dark] .colab-df-quickchart {\n",
              "      --bg-color: #3B4455;\n",
              "      --fill-color: #D2E3FC;\n",
              "      --hover-bg-color: #434B5C;\n",
              "      --hover-fill-color: #FFFFFF;\n",
              "      --disabled-bg-color: #3B4455;\n",
              "      --disabled-fill-color: #666;\n",
              "  }\n",
              "\n",
              "  .colab-df-quickchart {\n",
              "    background-color: var(--bg-color);\n",
              "    border: none;\n",
              "    border-radius: 50%;\n",
              "    cursor: pointer;\n",
              "    display: none;\n",
              "    fill: var(--fill-color);\n",
              "    height: 32px;\n",
              "    padding: 0;\n",
              "    width: 32px;\n",
              "  }\n",
              "\n",
              "  .colab-df-quickchart:hover {\n",
              "    background-color: var(--hover-bg-color);\n",
              "    box-shadow: 0 1px 2px rgba(60, 64, 67, 0.3), 0 1px 3px 1px rgba(60, 64, 67, 0.15);\n",
              "    fill: var(--button-hover-fill-color);\n",
              "  }\n",
              "\n",
              "  .colab-df-quickchart-complete:disabled,\n",
              "  .colab-df-quickchart-complete:disabled:hover {\n",
              "    background-color: var(--disabled-bg-color);\n",
              "    fill: var(--disabled-fill-color);\n",
              "    box-shadow: none;\n",
              "  }\n",
              "\n",
              "  .colab-df-spinner {\n",
              "    border: 2px solid var(--fill-color);\n",
              "    border-color: transparent;\n",
              "    border-bottom-color: var(--fill-color);\n",
              "    animation:\n",
              "      spin 1s steps(1) infinite;\n",
              "  }\n",
              "\n",
              "  @keyframes spin {\n",
              "    0% {\n",
              "      border-color: transparent;\n",
              "      border-bottom-color: var(--fill-color);\n",
              "      border-left-color: var(--fill-color);\n",
              "    }\n",
              "    20% {\n",
              "      border-color: transparent;\n",
              "      border-left-color: var(--fill-color);\n",
              "      border-top-color: var(--fill-color);\n",
              "    }\n",
              "    30% {\n",
              "      border-color: transparent;\n",
              "      border-left-color: var(--fill-color);\n",
              "      border-top-color: var(--fill-color);\n",
              "      border-right-color: var(--fill-color);\n",
              "    }\n",
              "    40% {\n",
              "      border-color: transparent;\n",
              "      border-right-color: var(--fill-color);\n",
              "      border-top-color: var(--fill-color);\n",
              "    }\n",
              "    60% {\n",
              "      border-color: transparent;\n",
              "      border-right-color: var(--fill-color);\n",
              "    }\n",
              "    80% {\n",
              "      border-color: transparent;\n",
              "      border-right-color: var(--fill-color);\n",
              "      border-bottom-color: var(--fill-color);\n",
              "    }\n",
              "    90% {\n",
              "      border-color: transparent;\n",
              "      border-bottom-color: var(--fill-color);\n",
              "    }\n",
              "  }\n",
              "</style>\n",
              "\n",
              "  <script>\n",
              "    async function quickchart(key) {\n",
              "      const quickchartButtonEl =\n",
              "        document.querySelector('#' + key + ' button');\n",
              "      quickchartButtonEl.disabled = true;  // To prevent multiple clicks.\n",
              "      quickchartButtonEl.classList.add('colab-df-spinner');\n",
              "      try {\n",
              "        const charts = await google.colab.kernel.invokeFunction(\n",
              "            'suggestCharts', [key], {});\n",
              "      } catch (error) {\n",
              "        console.error('Error during call to suggestCharts:', error);\n",
              "      }\n",
              "      quickchartButtonEl.classList.remove('colab-df-spinner');\n",
              "      quickchartButtonEl.classList.add('colab-df-quickchart-complete');\n",
              "    }\n",
              "    (() => {\n",
              "      let quickchartButtonEl =\n",
              "        document.querySelector('#df-d6e3e0e0-300a-4b1e-91c6-da6b6293f99a button');\n",
              "      quickchartButtonEl.style.display =\n",
              "        google.colab.kernel.accessAllowed ? 'block' : 'none';\n",
              "    })();\n",
              "  </script>\n",
              "</div>\n",
              "\n",
              "  <div id=\"id_2832109c-5691-473a-a052-5b3979d17e5c\">\n",
              "    <style>\n",
              "      .colab-df-generate {\n",
              "        background-color: #E8F0FE;\n",
              "        border: none;\n",
              "        border-radius: 50%;\n",
              "        cursor: pointer;\n",
              "        display: none;\n",
              "        fill: #1967D2;\n",
              "        height: 32px;\n",
              "        padding: 0 0 0 0;\n",
              "        width: 32px;\n",
              "      }\n",
              "\n",
              "      .colab-df-generate:hover {\n",
              "        background-color: #E2EBFA;\n",
              "        box-shadow: 0px 1px 2px rgba(60, 64, 67, 0.3), 0px 1px 3px 1px rgba(60, 64, 67, 0.15);\n",
              "        fill: #174EA6;\n",
              "      }\n",
              "\n",
              "      [theme=dark] .colab-df-generate {\n",
              "        background-color: #3B4455;\n",
              "        fill: #D2E3FC;\n",
              "      }\n",
              "\n",
              "      [theme=dark] .colab-df-generate:hover {\n",
              "        background-color: #434B5C;\n",
              "        box-shadow: 0px 1px 3px 1px rgba(0, 0, 0, 0.15);\n",
              "        filter: drop-shadow(0px 1px 2px rgba(0, 0, 0, 0.3));\n",
              "        fill: #FFFFFF;\n",
              "      }\n",
              "    </style>\n",
              "    <button class=\"colab-df-generate\" onclick=\"generateWithVariable('df')\"\n",
              "            title=\"Generate code using this dataframe.\"\n",
              "            style=\"display:none;\">\n",
              "\n",
              "  <svg xmlns=\"http://www.w3.org/2000/svg\" height=\"24px\"viewBox=\"0 0 24 24\"\n",
              "       width=\"24px\">\n",
              "    <path d=\"M7,19H8.4L18.45,9,17,7.55,7,17.6ZM5,21V16.75L18.45,3.32a2,2,0,0,1,2.83,0l1.4,1.43a1.91,1.91,0,0,1,.58,1.4,1.91,1.91,0,0,1-.58,1.4L9.25,21ZM18.45,9,17,7.55Zm-12,3A5.31,5.31,0,0,0,4.9,8.1,5.31,5.31,0,0,0,1,6.5,5.31,5.31,0,0,0,4.9,4.9,5.31,5.31,0,0,0,6.5,1,5.31,5.31,0,0,0,8.1,4.9,5.31,5.31,0,0,0,12,6.5,5.46,5.46,0,0,0,6.5,12Z\"/>\n",
              "  </svg>\n",
              "    </button>\n",
              "    <script>\n",
              "      (() => {\n",
              "      const buttonEl =\n",
              "        document.querySelector('#id_2832109c-5691-473a-a052-5b3979d17e5c button.colab-df-generate');\n",
              "      buttonEl.style.display =\n",
              "        google.colab.kernel.accessAllowed ? 'block' : 'none';\n",
              "\n",
              "      buttonEl.onclick = () => {\n",
              "        google.colab.notebook.generateWithVariable('df');\n",
              "      }\n",
              "      })();\n",
              "    </script>\n",
              "  </div>\n",
              "\n",
              "    </div>\n",
              "  </div>\n"
            ],
            "application/vnd.google.colaboratory.intrinsic+json": {
              "type": "dataframe",
              "variable_name": "df",
              "summary": "{\n  \"name\": \"df\",\n  \"rows\": 100,\n  \"fields\": [\n    {\n      \"column\": \"longitude\",\n      \"properties\": {\n        \"dtype\": \"number\",\n        \"std\": 1.9512446170471693,\n        \"min\": -123.19,\n        \"max\": -115.53,\n        \"num_unique_values\": 88,\n        \"samples\": [\n          -118.43,\n          -120.87,\n          -119.18\n        ],\n        \"semantic_type\": \"\",\n        \"description\": \"\"\n      }\n    },\n    {\n      \"column\": \"latitude\",\n      \"properties\": {\n        \"dtype\": \"number\",\n        \"std\": 1.9750457762243934,\n        \"min\": 32.74,\n        \"max\": 40.29,\n        \"num_unique_values\": 81,\n        \"samples\": [\n          33.16,\n          37.77,\n          37.78\n        ],\n        \"semantic_type\": \"\",\n        \"description\": \"\"\n      }\n    },\n    {\n      \"column\": \"housing_median_age\",\n      \"properties\": {\n        \"dtype\": \"number\",\n        \"std\": 12.559450544502255,\n        \"min\": 8.0,\n        \"max\": 52.0,\n        \"num_unique_values\": 38,\n        \"samples\": [\n          10.0,\n          21.0,\n          35.0\n        ],\n        \"semantic_type\": \"\",\n        \"description\": \"\"\n      }\n    },\n    {\n      \"column\": \"total_rooms\",\n      \"properties\": {\n        \"dtype\": \"number\",\n        \"std\": 2735.5071682921575,\n        \"min\": 240.0,\n        \"max\": 26322.0,\n        \"num_unique_values\": 99,\n        \"samples\": [\n          3056.0,\n          1453.0,\n          1930.0\n        ],\n        \"semantic_type\": \"\",\n        \"description\": \"\"\n      }\n    },\n    {\n      \"column\": \"total_bedrooms\",\n      \"properties\": {\n        \"dtype\": \"number\",\n        \"std\": 451.6464609144698,\n        \"min\": 46.0,\n        \"max\": 4072.0,\n        \"num_unique_values\": 93,\n        \"samples\": [\n          306.0,\n          716.0,\n          502.0\n        ],\n        \"semantic_type\": \"\",\n        \"description\": \"\"\n      }\n    },\n    {\n      \"column\": \"population\",\n      \"properties\": {\n        \"dtype\": \"number\",\n        \"std\": 1087.9492755462527,\n        \"min\": 63.0,\n        \"max\": 9360.0,\n        \"num_unique_values\": 94,\n        \"samples\": [\n          1066.0,\n          1027.0,\n          1092.0\n        ],\n        \"semantic_type\": \"\",\n        \"description\": \"\"\n      }\n    },\n    {\n      \"column\": \"households\",\n      \"properties\": {\n        \"dtype\": \"number\",\n        \"std\": 390.16662213764903,\n        \"min\": 24.0,\n        \"max\": 3361.0,\n        \"num_unique_values\": 96,\n        \"samples\": [\n          3361.0,\n          488.0,\n          664.0\n        ],\n        \"semantic_type\": \"\",\n        \"description\": \"\"\n      }\n    },\n    {\n      \"column\": \"median_income\",\n      \"properties\": {\n        \"dtype\": \"number\",\n        \"std\": 1.7472186964742253,\n        \"min\": 0.977,\n        \"max\": 12.3292,\n        \"num_unique_values\": 99,\n        \"samples\": [\n          5.7089,\n          6.7105,\n          5.2713\n        ],\n        \"semantic_type\": \"\",\n        \"description\": \"\"\n      }\n    },\n    {\n      \"column\": \"median_house_value\",\n      \"properties\": {\n        \"dtype\": \"number\",\n        \"std\": 118718.60380032858,\n        \"min\": 40000.0,\n        \"max\": 500001.0,\n        \"num_unique_values\": 91,\n        \"samples\": [\n          210900.0,\n          103800.0,\n          275000.0\n        ],\n        \"semantic_type\": \"\",\n        \"description\": \"\"\n      }\n    }\n  ]\n}"
            }
          },
          "metadata": {},
          "execution_count": 8
        }
      ]
    },
    {
      "cell_type": "code",
      "source": [
        "llm = OpenAI(model=\"gpt-4\", temperature=0.0)"
      ],
      "metadata": {
        "id": "CwH87MhfqyDg"
      },
      "execution_count": 83,
      "outputs": []
    },
    {
      "cell_type": "code",
      "source": [
        "agent = Agent(df, vectorstore=ChromaDB(), config={\"llm\": llm})"
      ],
      "metadata": {
        "id": "jiBTptl5g-73"
      },
      "execution_count": 96,
      "outputs": []
    },
    {
      "cell_type": "code",
      "source": [
        "query = \"What should be value of a house with less than 9 years of age?\"\n",
        "\n",
        "code = \"\"\"\n",
        "## Given the query asked by user you need to generate the code in following format.\n",
        "import pandas as pd\n",
        "df = dfs[0]\n",
        "\n",
        "\n",
        "## Filter the dataframe by relevant column\n",
        "## Add additional filters by column based on the query\n",
        "df_lt_9_yrs = df[df['housing_median_age'] < 9]\n",
        "\n",
        "## get the average value of the house\n",
        "## Always provide the result in the following format do not add return statement\n",
        "result = {\"type\": \"number\", \"value\": df_lt_9_yrs['median_house_value'].mean()}\n",
        "\n",
        "## Strictly do not add any return statement in the end\n",
        "\n",
        "\"\"\""
      ],
      "metadata": {
        "id": "WP209Dn1jl5k"
      },
      "execution_count": 97,
      "outputs": []
    },
    {
      "cell_type": "code",
      "source": [
        "agent.train(queries=[query], codes=[code])"
      ],
      "metadata": {
        "id": "wmjgg4YXhL82"
      },
      "execution_count": 98,
      "outputs": []
    },
    {
      "cell_type": "code",
      "source": [
        "agent.chat(\"What should be the value of the house with greater than 10 years of age?\")"
      ],
      "metadata": {
        "colab": {
          "base_uri": "https://localhost:8080/"
        },
        "id": "LTu0NVIMmaDp",
        "outputId": "53ff4c6d-2e7b-4cae-d9f9-8431ca56dcb6"
      },
      "execution_count": 16,
      "outputs": [
        {
          "output_type": "execute_result",
          "data": {
            "text/plain": [
              "218384.27368421052"
            ]
          },
          "metadata": {},
          "execution_count": 16
        }
      ]
    },
    {
      "cell_type": "code",
      "source": [
        "print(agent.context.intermediate_values['current_code_executed'])"
      ],
      "metadata": {
        "id": "iZc142R2mv3C",
        "colab": {
          "base_uri": "https://localhost:8080/"
        },
        "outputId": "57983047-487d-4f22-b948-d789db7a7861"
      },
      "execution_count": 17,
      "outputs": [
        {
          "output_type": "stream",
          "name": "stdout",
          "text": [
            "# TODO: import the required dependencies\n",
            "import pandas as pd\n",
            "\n",
            "# Write code here\n",
            "df = dfs[0]\n",
            "\n",
            "df_gt_10_yrs = df[df['housing_median_age'] > 10]\n",
            "\n",
            "result = {\"type\": \"number\", \"value\": df_gt_10_yrs['median_house_value'].mean()}\n"
          ]
        }
      ]
    },
    {
      "cell_type": "code",
      "source": [
        "agent.chat(\"What should be the value of the house with greater than 10 years of age and with rooms less than 500 capacity?\")"
      ],
      "metadata": {
        "colab": {
          "base_uri": "https://localhost:8080/"
        },
        "id": "CVaFYrDBlMPR",
        "outputId": "c45faa23-c58b-4759-cb7f-d757df605353"
      },
      "execution_count": 102,
      "outputs": [
        {
          "output_type": "execute_result",
          "data": {
            "text/plain": [
              "177825.0"
            ]
          },
          "metadata": {},
          "execution_count": 102
        }
      ]
    },
    {
      "cell_type": "code",
      "source": [
        "print(agent.context.intermediate_values['current_code_executed'])"
      ],
      "metadata": {
        "colab": {
          "base_uri": "https://localhost:8080/"
        },
        "id": "c_DdVgdUlf6K",
        "outputId": "3bee0cf2-0035-4a98-a857-09d41e9583bc"
      },
      "execution_count": 103,
      "outputs": [
        {
          "output_type": "stream",
          "name": "stdout",
          "text": [
            "# TODO: import the required dependencies\n",
            "import pandas as pd\n",
            "\n",
            "# Write code here\n",
            "df = dfs[0]\n",
            "\n",
            "def get_price(df):\n",
            "    ## Filter the dataframe by relevant columns \n",
            "    df_gt_10_yrs = df[(df['housing_median_age'] > 10) & (df['total_rooms'] < 500)]\n",
            "\n",
            "    ## get the average value of the house\n",
            "    results = {\"house_value\": df_gt_10_yrs['median_house_value'].mean()}\n",
            "\n",
            "    ## return a dictionary of results\n",
            "    return results\n",
            "\n",
            "result = get_price(df)\n",
            "result = { \"type\": \"number\", \"value\": result['house_value'] }\n"
          ]
        }
      ]
    },
    {
      "cell_type": "code",
      "source": [],
      "metadata": {
        "id": "IMoHRNI6yx-n"
      },
      "execution_count": null,
      "outputs": []
    }
  ]
}