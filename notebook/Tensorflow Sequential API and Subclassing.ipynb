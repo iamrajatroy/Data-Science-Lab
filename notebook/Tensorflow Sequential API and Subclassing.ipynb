{
 "cells": [
  {
   "cell_type": "markdown",
   "metadata": {},
   "source": [
    "# Different techinques of training a model with Keras"
   ]
  },
  {
   "cell_type": "markdown",
   "metadata": {},
   "source": [
    "## Import libraries"
   ]
  },
  {
   "cell_type": "code",
   "execution_count": 1,
   "metadata": {
    "ExecuteTime": {
     "end_time": "2021-05-21T10:36:34.971440Z",
     "start_time": "2021-05-21T10:36:34.965442Z"
    }
   },
   "outputs": [],
   "source": [
    "import warnings\n",
    "warnings.filterwarnings('ignore')"
   ]
  },
  {
   "cell_type": "code",
   "execution_count": 2,
   "metadata": {
    "ExecuteTime": {
     "end_time": "2021-05-21T10:36:36.682676Z",
     "start_time": "2021-05-21T10:36:35.651493Z"
    }
   },
   "outputs": [],
   "source": [
    "import numpy as np\n",
    "import pandas as pd"
   ]
  },
  {
   "cell_type": "code",
   "execution_count": 110,
   "metadata": {
    "ExecuteTime": {
     "end_time": "2021-05-21T11:54:56.671638Z",
     "start_time": "2021-05-21T11:54:56.668652Z"
    }
   },
   "outputs": [],
   "source": [
    "import time"
   ]
  },
  {
   "cell_type": "code",
   "execution_count": 4,
   "metadata": {
    "ExecuteTime": {
     "end_time": "2021-05-21T10:36:37.889766Z",
     "start_time": "2021-05-21T10:36:37.507740Z"
    }
   },
   "outputs": [],
   "source": [
    "import matplotlib.pyplot as plt\n",
    "%matplotlib inline"
   ]
  },
  {
   "cell_type": "code",
   "execution_count": 66,
   "metadata": {
    "ExecuteTime": {
     "end_time": "2021-05-21T11:23:48.123373Z",
     "start_time": "2021-05-21T11:23:48.116374Z"
    }
   },
   "outputs": [],
   "source": [
    "import tensorflow as tf\n",
    "from tensorflow.keras.datasets import cifar10 \n",
    "from tensorflow.keras.preprocessing.image import ImageDataGenerator\n",
    "from tensorflow.keras.models import Sequential, Model, load_model\n",
    "from tensorflow.keras.layers import Input, Conv2D, MaxPooling2D, Flatten, Dense, Layer, InputLayer\n",
    "from tensorflow.keras.optimizers import Adam\n",
    "from tensorflow.keras.losses import SparseCategoricalCrossentropy\n",
    "from tensorflow.keras.callbacks import ReduceLROnPlateau"
   ]
  },
  {
   "cell_type": "markdown",
   "metadata": {},
   "source": [
    "## Load Data"
   ]
  },
  {
   "cell_type": "code",
   "execution_count": 89,
   "metadata": {
    "ExecuteTime": {
     "end_time": "2021-05-21T11:53:57.958710Z",
     "start_time": "2021-05-21T11:53:57.308575Z"
    }
   },
   "outputs": [],
   "source": [
    "(X_train, y_train), (X_test, y_test) = cifar10.load_data()"
   ]
  },
  {
   "cell_type": "code",
   "execution_count": 90,
   "metadata": {
    "ExecuteTime": {
     "end_time": "2021-05-21T11:53:58.168733Z",
     "start_time": "2021-05-21T11:53:58.164733Z"
    }
   },
   "outputs": [
    {
     "data": {
      "text/plain": [
       "(50000, 32, 32, 3)"
      ]
     },
     "execution_count": 90,
     "metadata": {},
     "output_type": "execute_result"
    }
   ],
   "source": [
    "X_train.shape"
   ]
  },
  {
   "cell_type": "code",
   "execution_count": 91,
   "metadata": {
    "ExecuteTime": {
     "end_time": "2021-05-21T11:53:58.361268Z",
     "start_time": "2021-05-21T11:53:58.356266Z"
    }
   },
   "outputs": [
    {
     "data": {
      "text/plain": [
       "(50000, 1)"
      ]
     },
     "execution_count": 91,
     "metadata": {},
     "output_type": "execute_result"
    }
   ],
   "source": [
    "y_train.shape"
   ]
  },
  {
   "cell_type": "code",
   "execution_count": 92,
   "metadata": {
    "ExecuteTime": {
     "end_time": "2021-05-21T11:53:58.678795Z",
     "start_time": "2021-05-21T11:53:58.532785Z"
    }
   },
   "outputs": [
    {
     "data": {
      "text/plain": [
       "<matplotlib.image.AxesImage at 0x238fce024e0>"
      ]
     },
     "execution_count": 92,
     "metadata": {},
     "output_type": "execute_result"
    },
    {
     "data": {
      "image/png": "[encoded data removed]",
      "text/plain": [
       "<Figure size 432x288 with 1 Axes>"
      ]
     },
     "metadata": {
      "needs_background": "light"
     },
     "output_type": "display_data"
    }
   ],
   "source": [
    "plt.imshow(X_train[1])"
   ]
  },
  {
   "cell_type": "code",
   "execution_count": 93,
   "metadata": {
    "ExecuteTime": {
     "end_time": "2021-05-21T11:53:59.673630Z",
     "start_time": "2021-05-21T11:53:59.669477Z"
    }
   },
   "outputs": [
    {
     "data": {
      "text/plain": [
       "array([9], dtype=uint8)"
      ]
     },
     "execution_count": 93,
     "metadata": {},
     "output_type": "execute_result"
    }
   ],
   "source": [
    "y_train[1]"
   ]
  },
  {
   "cell_type": "markdown",
   "metadata": {},
   "source": [
    "# Sequential API"
   ]
  },
  {
   "cell_type": "markdown",
   "metadata": {},
   "source": [
    "### Number of classes"
   ]
  },
  {
   "cell_type": "code",
   "execution_count": 94,
   "metadata": {
    "ExecuteTime": {
     "end_time": "2021-05-21T11:54:00.532476Z",
     "start_time": "2021-05-21T11:54:00.524478Z"
    }
   },
   "outputs": [
    {
     "data": {
      "text/plain": [
       "10"
      ]
     },
     "execution_count": 94,
     "metadata": {},
     "output_type": "execute_result"
    }
   ],
   "source": [
    "NUM_OUTPUTS = len(np.unique(y_train))\n",
    "NUM_OUTPUTS"
   ]
  },
  {
   "cell_type": "markdown",
   "metadata": {},
   "source": [
    "### Batch Size"
   ]
  },
  {
   "cell_type": "code",
   "execution_count": 95,
   "metadata": {
    "ExecuteTime": {
     "end_time": "2021-05-21T11:54:01.123546Z",
     "start_time": "2021-05-21T11:54:01.121546Z"
    }
   },
   "outputs": [],
   "source": [
    "BATCH_SIZE = 128"
   ]
  },
  {
   "cell_type": "markdown",
   "metadata": {},
   "source": [
    "### Create Data Generator"
   ]
  },
  {
   "cell_type": "code",
   "execution_count": 56,
   "metadata": {
    "ExecuteTime": {
     "end_time": "2021-05-21T11:02:49.409231Z",
     "start_time": "2021-05-21T11:02:49.156214Z"
    }
   },
   "outputs": [],
   "source": [
    "train_dataset = ImageDataGenerator(rescale=1/255).flow(X_train, y_train, batch_size=BATCH_SIZE, shuffle=True)\n",
    "test_dataset = ImageDataGenerator(rescale=1/255).flow(X_test, y_test, batch_size=BATCH_SIZE)"
   ]
  },
  {
   "cell_type": "markdown",
   "metadata": {},
   "source": [
    "### Define Model "
   ]
  },
  {
   "cell_type": "code",
   "execution_count": 55,
   "metadata": {
    "ExecuteTime": {
     "end_time": "2021-05-20T17:47:38.482002Z",
     "start_time": "2021-05-20T17:47:37.972964Z"
    }
   },
   "outputs": [
    {
     "name": "stdout",
     "output_type": "stream",
     "text": [
      "Model: \"sequential_8\"\n",
      "_________________________________________________________________\n",
      "Layer (type)                 Output Shape              Param #   \n",
      "=================================================================\n",
      "conv2d_24 (Conv2D)           (None, 30, 30, 64)        1792      \n",
      "_________________________________________________________________\n",
      "max_pooling2d_24 (MaxPooling (None, 15, 15, 64)        0         \n",
      "_________________________________________________________________\n",
      "conv2d_25 (Conv2D)           (None, 13, 13, 64)        36928     \n",
      "_________________________________________________________________\n",
      "max_pooling2d_25 (MaxPooling (None, 6, 6, 64)          0         \n",
      "_________________________________________________________________\n",
      "conv2d_26 (Conv2D)           (None, 4, 4, 64)          36928     \n",
      "_________________________________________________________________\n",
      "max_pooling2d_26 (MaxPooling (None, 2, 2, 64)          0         \n",
      "_________________________________________________________________\n",
      "flatten_8 (Flatten)          (None, 256)               0         \n",
      "_________________________________________________________________\n",
      "dense_16 (Dense)             (None, 128)               32896     \n",
      "_________________________________________________________________\n",
      "dense_17 (Dense)             (None, 10)                1290      \n",
      "=================================================================\n",
      "Total params: 109,834\n",
      "Trainable params: 109,834\n",
      "Non-trainable params: 0\n",
      "_________________________________________________________________\n"
     ]
    }
   ],
   "source": [
    "cifar_model = Sequential()\n",
    "cifar_model.add(Input(shape=(32,32,3)))\n",
    "# CONV-LAYER1\n",
    "cifar_model.add(Conv2D(64, kernel_size=(3,3)))\n",
    "cifar_model.add(MaxPooling2D())\n",
    "# CONV-LAYER2\n",
    "cifar_model.add(Conv2D(64, kernel_size=(3,3)))\n",
    "cifar_model.add(MaxPooling2D())\n",
    "# CONV-LAYER3\n",
    "cifar_model.add(Conv2D(64, kernel_size=(3,3)))\n",
    "cifar_model.add(MaxPooling2D())\n",
    "\n",
    "cifar_model.add(Flatten())\n",
    "cifar_model.add(Dense(128, activation='relu'))\n",
    "cifar_model.add(Dense(NUM_OUTPUTS, activation='softmax'))\n",
    "\n",
    "cifar_model.compile(optimizer=Adam(lr=1e-3), metrics=['accuracy'], loss=['sparse_categorical_crossentropy'])\n",
    "cifar_model.summary()"
   ]
  },
  {
   "cell_type": "markdown",
   "metadata": {},
   "source": [
    "### Callbacks"
   ]
  },
  {
   "cell_type": "code",
   "execution_count": 56,
   "metadata": {
    "ExecuteTime": {
     "end_time": "2021-05-20T17:47:39.872119Z",
     "start_time": "2021-05-20T17:47:39.868117Z"
    }
   },
   "outputs": [],
   "source": [
    "reduce_lr = ReduceLROnPlateau(min_delta=1e-6)\n",
    "callbacks = [reduce_lr]"
   ]
  },
  {
   "cell_type": "markdown",
   "metadata": {},
   "source": [
    "### Train Model"
   ]
  },
  {
   "cell_type": "code",
   "execution_count": 57,
   "metadata": {
    "ExecuteTime": {
     "end_time": "2021-05-20T17:47:40.466169Z",
     "start_time": "2021-05-20T17:47:40.462169Z"
    }
   },
   "outputs": [],
   "source": [
    "EPOCHS = 10\n",
    "STEPS_PER_EPOCHS = (X_train.shape[0] // BATCH_SIZE)"
   ]
  },
  {
   "cell_type": "code",
   "execution_count": 58,
   "metadata": {
    "ExecuteTime": {
     "end_time": "2021-05-20T17:48:25.958220Z",
     "start_time": "2021-05-20T17:47:41.116221Z"
    }
   },
   "outputs": [
    {
     "name": "stdout",
     "output_type": "stream",
     "text": [
      "WARNING:tensorflow:sample_weight modes were coerced from\n",
      "  ...\n",
      "    to  \n",
      "  ['...']\n",
      "WARNING:tensorflow:sample_weight modes were coerced from\n",
      "  ...\n",
      "    to  \n",
      "  ['...']\n",
      "Train for 390 steps, validate for 79 steps\n",
      "Epoch 1/10\n",
      "390/390 [==============================] - 5s 14ms/step - loss: 1.5546 - accuracy: 0.4417 - val_loss: 1.3374 - val_accuracy: 0.5280\n",
      "Epoch 2/10\n",
      "390/390 [==============================] - 4s 11ms/step - loss: 1.1852 - accuracy: 0.5821 - val_loss: 1.1423 - val_accuracy: 0.6027\n",
      "Epoch 3/10\n",
      "390/390 [==============================] - 4s 11ms/step - loss: 1.0383 - accuracy: 0.6385 - val_loss: 1.0528 - val_accuracy: 0.6287\n",
      "Epoch 4/10\n",
      "390/390 [==============================] - 4s 11ms/step - loss: 0.9389 - accuracy: 0.6749 - val_loss: 0.9867 - val_accuracy: 0.6591\n",
      "Epoch 5/10\n",
      "390/390 [==============================] - 4s 11ms/step - loss: 0.8578 - accuracy: 0.7036 - val_loss: 0.9525 - val_accuracy: 0.6734\n",
      "Epoch 6/10\n",
      "390/390 [==============================] - 4s 11ms/step - loss: 0.7928 - accuracy: 0.7260 - val_loss: 0.9338 - val_accuracy: 0.6813\n",
      "Epoch 7/10\n",
      "390/390 [==============================] - 4s 11ms/step - loss: 0.7390 - accuracy: 0.7458 - val_loss: 0.9154 - val_accuracy: 0.6907\n",
      "Epoch 8/10\n",
      "390/390 [==============================] - 4s 11ms/step - loss: 0.6835 - accuracy: 0.7644 - val_loss: 0.9101 - val_accuracy: 0.6975\n",
      "Epoch 9/10\n",
      "390/390 [==============================] - 4s 11ms/step - loss: 0.6451 - accuracy: 0.7793 - val_loss: 0.8930 - val_accuracy: 0.7038\n",
      "Epoch 10/10\n",
      "390/390 [==============================] - 4s 11ms/step - loss: 0.6102 - accuracy: 0.7892 - val_loss: 0.9264 - val_accuracy: 0.7028\n"
     ]
    },
    {
     "data": {
      "text/plain": [
       "<tensorflow.python.keras.callbacks.History at 0x29902dae278>"
      ]
     },
     "execution_count": 58,
     "metadata": {},
     "output_type": "execute_result"
    }
   ],
   "source": [
    "cifar_model.fit_generator(train_dataset, steps_per_epoch=STEPS_PER_EPOCHS, epochs=EPOCHS, validation_data=test_dataset, callbacks=callbacks)"
   ]
  },
  {
   "cell_type": "code",
   "execution_count": 62,
   "metadata": {
    "ExecuteTime": {
     "end_time": "2021-05-20T17:51:59.620934Z",
     "start_time": "2021-05-20T17:51:59.606947Z"
    }
   },
   "outputs": [
    {
     "data": {
      "text/html": [
       "<div>\n",
       "<style scoped>\n",
       "    .dataframe tbody tr th:only-of-type {\n",
       "        vertical-align: middle;\n",
       "    }\n",
       "\n",
       "    .dataframe tbody tr th {\n",
       "        vertical-align: top;\n",
       "    }\n",
       "\n",
       "    .dataframe thead th {\n",
       "        text-align: right;\n",
       "    }\n",
       "</style>\n",
       "<table border=\"1\" class=\"dataframe\">\n",
       "  <thead>\n",
       "    <tr style=\"text-align: right;\">\n",
       "      <th></th>\n",
       "      <th>loss</th>\n",
       "      <th>accuracy</th>\n",
       "      <th>val_loss</th>\n",
       "      <th>val_accuracy</th>\n",
       "      <th>lr</th>\n",
       "    </tr>\n",
       "  </thead>\n",
       "  <tbody>\n",
       "    <tr>\n",
       "      <th>0</th>\n",
       "      <td>1.554650</td>\n",
       "      <td>0.441711</td>\n",
       "      <td>1.337397</td>\n",
       "      <td>0.5280</td>\n",
       "      <td>0.001</td>\n",
       "    </tr>\n",
       "    <tr>\n",
       "      <th>1</th>\n",
       "      <td>1.185113</td>\n",
       "      <td>0.582110</td>\n",
       "      <td>1.142296</td>\n",
       "      <td>0.6027</td>\n",
       "      <td>0.001</td>\n",
       "    </tr>\n",
       "    <tr>\n",
       "      <th>2</th>\n",
       "      <td>1.038157</td>\n",
       "      <td>0.638475</td>\n",
       "      <td>1.052839</td>\n",
       "      <td>0.6287</td>\n",
       "      <td>0.001</td>\n",
       "    </tr>\n",
       "    <tr>\n",
       "      <th>3</th>\n",
       "      <td>0.938937</td>\n",
       "      <td>0.674868</td>\n",
       "      <td>0.986747</td>\n",
       "      <td>0.6591</td>\n",
       "      <td>0.001</td>\n",
       "    </tr>\n",
       "    <tr>\n",
       "      <th>4</th>\n",
       "      <td>0.857871</td>\n",
       "      <td>0.703581</td>\n",
       "      <td>0.952451</td>\n",
       "      <td>0.6734</td>\n",
       "      <td>0.001</td>\n",
       "    </tr>\n",
       "    <tr>\n",
       "      <th>5</th>\n",
       "      <td>0.792761</td>\n",
       "      <td>0.726019</td>\n",
       "      <td>0.933841</td>\n",
       "      <td>0.6813</td>\n",
       "      <td>0.001</td>\n",
       "    </tr>\n",
       "    <tr>\n",
       "      <th>6</th>\n",
       "      <td>0.739096</td>\n",
       "      <td>0.745849</td>\n",
       "      <td>0.915372</td>\n",
       "      <td>0.6907</td>\n",
       "      <td>0.001</td>\n",
       "    </tr>\n",
       "    <tr>\n",
       "      <th>7</th>\n",
       "      <td>0.683533</td>\n",
       "      <td>0.764397</td>\n",
       "      <td>0.910145</td>\n",
       "      <td>0.6975</td>\n",
       "      <td>0.001</td>\n",
       "    </tr>\n",
       "    <tr>\n",
       "      <th>8</th>\n",
       "      <td>0.645228</td>\n",
       "      <td>0.779335</td>\n",
       "      <td>0.893034</td>\n",
       "      <td>0.7038</td>\n",
       "      <td>0.001</td>\n",
       "    </tr>\n",
       "    <tr>\n",
       "      <th>9</th>\n",
       "      <td>0.610365</td>\n",
       "      <td>0.789180</td>\n",
       "      <td>0.926364</td>\n",
       "      <td>0.7028</td>\n",
       "      <td>0.001</td>\n",
       "    </tr>\n",
       "  </tbody>\n",
       "</table>\n",
       "</div>"
      ],
      "text/plain": [
       "       loss  accuracy  val_loss  val_accuracy     lr\n",
       "0  1.554650  0.441711  1.337397        0.5280  0.001\n",
       "1  1.185113  0.582110  1.142296        0.6027  0.001\n",
       "2  1.038157  0.638475  1.052839        0.6287  0.001\n",
       "3  0.938937  0.674868  0.986747        0.6591  0.001\n",
       "4  0.857871  0.703581  0.952451        0.6734  0.001\n",
       "5  0.792761  0.726019  0.933841        0.6813  0.001\n",
       "6  0.739096  0.745849  0.915372        0.6907  0.001\n",
       "7  0.683533  0.764397  0.910145        0.6975  0.001\n",
       "8  0.645228  0.779335  0.893034        0.7038  0.001\n",
       "9  0.610365  0.789180  0.926364        0.7028  0.001"
      ]
     },
     "execution_count": 62,
     "metadata": {},
     "output_type": "execute_result"
    }
   ],
   "source": [
    "history = pd.DataFrame(cifar_model.history.history)\n",
    "history"
   ]
  },
  {
   "cell_type": "code",
   "execution_count": 64,
   "metadata": {
    "ExecuteTime": {
     "end_time": "2021-05-20T17:53:25.741471Z",
     "start_time": "2021-05-20T17:53:25.590458Z"
    }
   },
   "outputs": [
    {
     "data": {
      "text/plain": [
       "<AxesSubplot:>"
      ]
     },
     "execution_count": 64,
     "metadata": {},
     "output_type": "execute_result"
    },
    {
     "data": {
      "image/png": "[encoded data removed]",
      "text/plain": [
       "<Figure size 432x288 with 1 Axes>"
      ]
     },
     "metadata": {
      "needs_background": "light"
     },
     "output_type": "display_data"
    }
   ],
   "source": [
    "history[['loss', 'val_loss']].plot.line(grid=True)"
   ]
  },
  {
   "cell_type": "code",
   "execution_count": 65,
   "metadata": {
    "ExecuteTime": {
     "end_time": "2021-05-20T17:53:38.016973Z",
     "start_time": "2021-05-20T17:53:37.855962Z"
    }
   },
   "outputs": [
    {
     "data": {
      "text/plain": [
       "<AxesSubplot:>"
      ]
     },
     "execution_count": 65,
     "metadata": {},
     "output_type": "execute_result"
    },
    {
     "data": {
      "image/png": "[encoded data removed]",
      "text/plain": [
       "<Figure size 432x288 with 1 Axes>"
      ]
     },
     "metadata": {
      "needs_background": "light"
     },
     "output_type": "display_data"
    }
   ],
   "source": [
    "history[['accuracy', 'val_accuracy']].plot.line(grid=True)"
   ]
  },
  {
   "cell_type": "markdown",
   "metadata": {},
   "source": [
    "### Save and Load Model"
   ]
  },
  {
   "cell_type": "code",
   "execution_count": 66,
   "metadata": {
    "ExecuteTime": {
     "end_time": "2021-05-20T17:54:50.405295Z",
     "start_time": "2021-05-20T17:54:50.352291Z"
    }
   },
   "outputs": [],
   "source": [
    "cifar_model.save('../models/cifar10_model.h5')"
   ]
  },
  {
   "cell_type": "code",
   "execution_count": 10,
   "metadata": {
    "ExecuteTime": {
     "end_time": "2021-05-21T10:36:52.527388Z",
     "start_time": "2021-05-21T10:36:48.951110Z"
    }
   },
   "outputs": [],
   "source": [
    "loaded_cifar_model = load_model('../models/cifar10_model.h5')"
   ]
  },
  {
   "cell_type": "markdown",
   "metadata": {},
   "source": [
    "### Final Prediction"
   ]
  },
  {
   "cell_type": "code",
   "execution_count": 133,
   "metadata": {
    "ExecuteTime": {
     "end_time": "2021-05-21T12:06:43.675933Z",
     "start_time": "2021-05-21T12:06:43.541935Z"
    }
   },
   "outputs": [
    {
     "data": {
      "text/plain": [
       "<matplotlib.image.AxesImage at 0x237d50f55f8>"
      ]
     },
     "execution_count": 133,
     "metadata": {},
     "output_type": "execute_result"
    },
    {
     "data": {
      "image/png": "[encoded data removed]",
      "text/plain": [
       "<Figure size 432x288 with 1 Axes>"
      ]
     },
     "metadata": {
      "needs_background": "light"
     },
     "output_type": "display_data"
    }
   ],
   "source": [
    "idx = np.random.randint(100)\n",
    "test_image = X_test[idx]\n",
    "plt.imshow(test_image)"
   ]
  },
  {
   "cell_type": "code",
   "execution_count": 134,
   "metadata": {
    "ExecuteTime": {
     "end_time": "2021-05-21T12:06:45.529353Z",
     "start_time": "2021-05-21T12:06:45.524354Z"
    }
   },
   "outputs": [],
   "source": [
    "label_dict = {0:'airplane', 1:'automobile', 2:'bird', 3:'cat', 4:'deer', 5:'dog', 6:'frog', 7:'horse', 8:'ship', 9:'truck'}"
   ]
  },
  {
   "cell_type": "code",
   "execution_count": 135,
   "metadata": {
    "ExecuteTime": {
     "end_time": "2021-05-21T12:06:46.498706Z",
     "start_time": "2021-05-21T12:06:46.492707Z"
    }
   },
   "outputs": [],
   "source": [
    "def get_prediction(img):\n",
    "    img = np.expand_dims(img, 0)\n",
    "    preds = loaded_cifar_model.predict(img)\n",
    "    pred_arg = np.argmax(preds)\n",
    "    label = label_dict[pred_arg]\n",
    "    prob = np.max(preds) * 100\n",
    "    return {'label': label, 'probability': prob}"
   ]
  },
  {
   "cell_type": "code",
   "execution_count": 37,
   "metadata": {
    "ExecuteTime": {
     "end_time": "2021-05-21T10:37:25.519951Z",
     "start_time": "2021-05-21T10:37:25.450946Z"
    }
   },
   "outputs": [
    {
     "data": {
      "text/plain": [
       "{'label': 'truck', 'probability': 100.0}"
      ]
     },
     "execution_count": 37,
     "metadata": {},
     "output_type": "execute_result"
    }
   ],
   "source": [
    "get_prediction(test_image)"
   ]
  },
  {
   "cell_type": "markdown",
   "metadata": {},
   "source": [
    "# Sub Classing Approach"
   ]
  },
  {
   "cell_type": "markdown",
   "metadata": {},
   "source": [
    "### Create Tensorflow Dataset"
   ]
  },
  {
   "cell_type": "code",
   "execution_count": 96,
   "metadata": {
    "ExecuteTime": {
     "end_time": "2021-05-21T11:54:05.359728Z",
     "start_time": "2021-05-21T11:54:05.356729Z"
    }
   },
   "outputs": [],
   "source": [
    "def parse_data(img, label):\n",
    "    img = tf.cast(img, tf.float32)\n",
    "    img = img/255.0\n",
    "    return img,label"
   ]
  },
  {
   "cell_type": "code",
   "execution_count": 97,
   "metadata": {
    "ExecuteTime": {
     "end_time": "2021-05-21T11:54:05.878772Z",
     "start_time": "2021-05-21T11:54:05.580746Z"
    }
   },
   "outputs": [],
   "source": [
    "train_dataset = tf.data.Dataset.from_tensor_slices((X_train, y_train)).map(parse_data).batch(BATCH_SIZE)\n",
    "test_dataset = tf.data.Dataset.from_tensor_slices((X_test, y_test)).map(parse_data).batch(BATCH_SIZE)"
   ]
  },
  {
   "cell_type": "markdown",
   "metadata": {},
   "source": [
    "### Convolution Block"
   ]
  },
  {
   "cell_type": "code",
   "execution_count": 98,
   "metadata": {
    "ExecuteTime": {
     "end_time": "2021-05-21T11:54:06.697715Z",
     "start_time": "2021-05-21T11:54:06.692714Z"
    }
   },
   "outputs": [],
   "source": [
    "class ConvolutionLayer(Layer):\n",
    "    \n",
    "    def __init__(self, filters, kernel_size):\n",
    "        super(ConvolutionLayer, self).__init__()\n",
    "        self.__conv = Conv2D(filters, kernel_size, activation='relu')\n",
    "        self.__max_pool = MaxPooling2D()\n",
    "    \n",
    "    def call(self, x):\n",
    "        x = self.__conv(x)\n",
    "        return self.__max_pool(x)"
   ]
  },
  {
   "cell_type": "markdown",
   "metadata": {},
   "source": [
    "### Prediction Layer"
   ]
  },
  {
   "cell_type": "code",
   "execution_count": 99,
   "metadata": {
    "ExecuteTime": {
     "end_time": "2021-05-21T11:54:06.930728Z",
     "start_time": "2021-05-21T11:54:06.926729Z"
    }
   },
   "outputs": [],
   "source": [
    "class HeadLayer(Layer):\n",
    "    \n",
    "    def __init__(self, num_outputs):\n",
    "        super(HeadLayer, self).__init__()\n",
    "        self.__flatten = Flatten()\n",
    "        self.__dense1 = Dense(128, activation='relu')\n",
    "        self.__classifier = Dense(num_outputs, activation='softmax')\n",
    "        \n",
    "    def call(self, x):\n",
    "        x = self.__flatten(x)\n",
    "        x = self.__dense1(x)\n",
    "        return self.__classifier(x)"
   ]
  },
  {
   "cell_type": "markdown",
   "metadata": {},
   "source": [
    "### Define Model Class"
   ]
  },
  {
   "cell_type": "code",
   "execution_count": 100,
   "metadata": {
    "ExecuteTime": {
     "end_time": "2021-05-21T11:54:07.917482Z",
     "start_time": "2021-05-21T11:54:07.909481Z"
    }
   },
   "outputs": [],
   "source": [
    "class CifarModel(Model):\n",
    "    \n",
    "    def __init__(self, input_shape, filters, kernel_size, num_outputs):\n",
    "        super(CifarModel, self).__init__()\n",
    "        self.__input = InputLayer(input_shape=input_shape)\n",
    "        self.__conv_layer_1 = ConvolutionLayer(filters, kernel_size)\n",
    "        self.__conv_layer_2 = ConvolutionLayer(filters, kernel_size)\n",
    "        self.__conv_layer_3 = ConvolutionLayer(filters, kernel_size)\n",
    "        self.__classifier = HeadLayer(num_outputs)\n",
    "        \n",
    "    def call(self, x):\n",
    "        x = self.__input(x)\n",
    "        x = self.__conv_layer_1(x)\n",
    "        x = self.__conv_layer_2(x)\n",
    "        x = self.__conv_layer_3(x)\n",
    "        return self.__classifier(x)"
   ]
  },
  {
   "cell_type": "markdown",
   "metadata": {},
   "source": [
    "### Create Model Object"
   ]
  },
  {
   "cell_type": "code",
   "execution_count": 101,
   "metadata": {
    "ExecuteTime": {
     "end_time": "2021-05-21T11:54:13.814530Z",
     "start_time": "2021-05-21T11:54:13.796526Z"
    }
   },
   "outputs": [],
   "source": [
    "cifar_model = CifarModel(input_shape=(32,32,3), filters=64, kernel_size=(3,3), num_outputs=NUM_OUTPUTS)"
   ]
  },
  {
   "cell_type": "code",
   "execution_count": 114,
   "metadata": {
    "ExecuteTime": {
     "end_time": "2021-05-21T11:57:39.984472Z",
     "start_time": "2021-05-21T11:57:39.981471Z"
    }
   },
   "outputs": [],
   "source": [
    "EPOCHS = 10\n",
    "TRAIN_STEPS_PER_EPOCHS = (X_train.shape[0] // BATCH_SIZE)\n",
    "TEST_STEPS_PER_EPOCHS = (X_test.shape[0] // BATCH_SIZE)"
   ]
  },
  {
   "cell_type": "code",
   "execution_count": 152,
   "metadata": {
    "ExecuteTime": {
     "end_time": "2021-05-21T12:10:04.687952Z",
     "start_time": "2021-05-21T12:10:04.684953Z"
    }
   },
   "outputs": [],
   "source": [
    "adam = Adam(learning_rate=1e-3)\n",
    "loss_object = SparseCategoricalCrossentropy(from_logits=False)"
   ]
  },
  {
   "cell_type": "markdown",
   "metadata": {},
   "source": [
    "### Initialize Checkpoint Manager"
   ]
  },
  {
   "cell_type": "code",
   "execution_count": 153,
   "metadata": {
    "ExecuteTime": {
     "end_time": "2021-05-21T12:10:05.018960Z",
     "start_time": "2021-05-21T12:10:05.012958Z"
    }
   },
   "outputs": [],
   "source": [
    "checkpoint_path = \"../models/ckpts/cifar_10/\"\n",
    "ckpt = tf.train.Checkpoint(cifar_model=cifar_model, optimizer=adam)\n",
    "ckpt_manager = tf.train.CheckpointManager(ckpt, checkpoint_path, max_to_keep=1)"
   ]
  },
  {
   "cell_type": "markdown",
   "metadata": {},
   "source": [
    "### Define Train/Test Function"
   ]
  },
  {
   "cell_type": "code",
   "execution_count": 154,
   "metadata": {
    "ExecuteTime": {
     "end_time": "2021-05-21T12:10:06.042665Z",
     "start_time": "2021-05-21T12:10:06.036663Z"
    }
   },
   "outputs": [],
   "source": [
    "@tf.function\n",
    "def train_step(img, label):\n",
    "    train_loss = 0\n",
    "    with tf.GradientTape() as tape:\n",
    "        pred = cifar_model(img)\n",
    "        train_loss = loss_object(label, pred)\n",
    "    avg_loss = (train_loss / int(label.shape[1]))\n",
    "    trainable_variables = cifar_model.trainable_variables\n",
    "    gradients = tape.gradient(train_loss, trainable_variables)\n",
    "    adam.apply_gradients(zip(gradients, trainable_variables))\n",
    "    return train_loss, avg_loss"
   ]
  },
  {
   "cell_type": "code",
   "execution_count": 155,
   "metadata": {
    "ExecuteTime": {
     "end_time": "2021-05-21T12:10:06.289679Z",
     "start_time": "2021-05-21T12:10:06.284680Z"
    }
   },
   "outputs": [],
   "source": [
    "@tf.function\n",
    "def val_step(img, label):\n",
    "    val_loss = 0\n",
    "    pred = cifar_model(img)\n",
    "    val_loss = loss_object(label, pred)\n",
    "    avg_loss = (val_loss / int(label.shape[1]))\n",
    "    return val_loss, avg_loss"
   ]
  },
  {
   "cell_type": "code",
   "execution_count": 156,
   "metadata": {
    "ExecuteTime": {
     "end_time": "2021-05-21T12:10:06.803110Z",
     "start_time": "2021-05-21T12:10:06.797109Z"
    }
   },
   "outputs": [],
   "source": [
    "def validation_loss(test_dataset):\n",
    "    total_loss = 0\n",
    "    for idx, (img, label) in enumerate(test_dataset):\n",
    "        batch_loss, t_loss = val_step(img, label)\n",
    "        total_loss += t_loss\n",
    "    avg_test_loss = total_loss/TEST_STEPS_PER_EPOCHS\n",
    "    return avg_test_loss"
   ]
  },
  {
   "cell_type": "markdown",
   "metadata": {},
   "source": [
    "### Train Model"
   ]
  },
  {
   "cell_type": "code",
   "execution_count": 157,
   "metadata": {
    "ExecuteTime": {
     "end_time": "2021-05-21T12:10:45.671358Z",
     "start_time": "2021-05-21T12:10:07.229050Z"
    }
   },
   "outputs": [
    {
     "name": "stdout",
     "output_type": "stream",
     "text": [
      "WARNING:tensorflow:AutoGraph could not transform <bound method CifarModel.call of <__main__.CifarModel object at 0x00000238FCF57160>> and will run it as-is.\n",
      "Please report this to the TensorFlow team. When filing the bug, set the verbosity to 10 (on Linux, `export AUTOGRAPH_VERBOSITY=10`) and attach the full output.\n",
      "Cause: Mangled names are not yet supported by AutoGraph\n",
      "WARNING: AutoGraph could not transform <bound method CifarModel.call of <__main__.CifarModel object at 0x00000238FCF57160>> and will run it as-is.\n",
      "Please report this to the TensorFlow team. When filing the bug, set the verbosity to 10 (on Linux, `export AUTOGRAPH_VERBOSITY=10`) and attach the full output.\n",
      "Cause: Mangled names are not yet supported by AutoGraph\n",
      "WARNING:tensorflow:AutoGraph could not transform <bound method ConvolutionLayer.call of <__main__.ConvolutionLayer object at 0x00000238FCEED5C0>> and will run it as-is.\n",
      "Please report this to the TensorFlow team. When filing the bug, set the verbosity to 10 (on Linux, `export AUTOGRAPH_VERBOSITY=10`) and attach the full output.\n",
      "Cause: Mangled names are not yet supported by AutoGraph\n",
      "WARNING: AutoGraph could not transform <bound method ConvolutionLayer.call of <__main__.ConvolutionLayer object at 0x00000238FCEED5C0>> and will run it as-is.\n",
      "Please report this to the TensorFlow team. When filing the bug, set the verbosity to 10 (on Linux, `export AUTOGRAPH_VERBOSITY=10`) and attach the full output.\n",
      "Cause: Mangled names are not yet supported by AutoGraph\n",
      "WARNING:tensorflow:AutoGraph could not transform <bound method ConvolutionLayer.call of <__main__.ConvolutionLayer object at 0x00000238FD218400>> and will run it as-is.\n",
      "Please report this to the TensorFlow team. When filing the bug, set the verbosity to 10 (on Linux, `export AUTOGRAPH_VERBOSITY=10`) and attach the full output.\n",
      "Cause: Mangled names are not yet supported by AutoGraph\n",
      "WARNING: AutoGraph could not transform <bound method ConvolutionLayer.call of <__main__.ConvolutionLayer object at 0x00000238FD218400>> and will run it as-is.\n",
      "Please report this to the TensorFlow team. When filing the bug, set the verbosity to 10 (on Linux, `export AUTOGRAPH_VERBOSITY=10`) and attach the full output.\n",
      "Cause: Mangled names are not yet supported by AutoGraph\n",
      "WARNING:tensorflow:AutoGraph could not transform <bound method ConvolutionLayer.call of <__main__.ConvolutionLayer object at 0x00000238FC888DA0>> and will run it as-is.\n",
      "Please report this to the TensorFlow team. When filing the bug, set the verbosity to 10 (on Linux, `export AUTOGRAPH_VERBOSITY=10`) and attach the full output.\n",
      "Cause: Mangled names are not yet supported by AutoGraph\n",
      "WARNING: AutoGraph could not transform <bound method ConvolutionLayer.call of <__main__.ConvolutionLayer object at 0x00000238FC888DA0>> and will run it as-is.\n",
      "Please report this to the TensorFlow team. When filing the bug, set the verbosity to 10 (on Linux, `export AUTOGRAPH_VERBOSITY=10`) and attach the full output.\n",
      "Cause: Mangled names are not yet supported by AutoGraph\n",
      "WARNING:tensorflow:AutoGraph could not transform <bound method HeadLayer.call of <__main__.HeadLayer object at 0x00000238FD05B400>> and will run it as-is.\n",
      "Please report this to the TensorFlow team. When filing the bug, set the verbosity to 10 (on Linux, `export AUTOGRAPH_VERBOSITY=10`) and attach the full output.\n",
      "Cause: Mangled names are not yet supported by AutoGraph\n",
      "WARNING: AutoGraph could not transform <bound method HeadLayer.call of <__main__.HeadLayer object at 0x00000238FD05B400>> and will run it as-is.\n",
      "Please report this to the TensorFlow team. When filing the bug, set the verbosity to 10 (on Linux, `export AUTOGRAPH_VERBOSITY=10`) and attach the full output.\n",
      "Cause: Mangled names are not yet supported by AutoGraph\n",
      "WARNING:tensorflow:AutoGraph could not transform <bound method CifarModel.call of <__main__.CifarModel object at 0x00000238FCF57160>> and will run it as-is.\n",
      "Please report this to the TensorFlow team. When filing the bug, set the verbosity to 10 (on Linux, `export AUTOGRAPH_VERBOSITY=10`) and attach the full output.\n",
      "Cause: Mangled names are not yet supported by AutoGraph\n",
      "WARNING: AutoGraph could not transform <bound method CifarModel.call of <__main__.CifarModel object at 0x00000238FCF57160>> and will run it as-is.\n",
      "Please report this to the TensorFlow team. When filing the bug, set the verbosity to 10 (on Linux, `export AUTOGRAPH_VERBOSITY=10`) and attach the full output.\n",
      "Cause: Mangled names are not yet supported by AutoGraph\n",
      "WARNING:tensorflow:AutoGraph could not transform <bound method ConvolutionLayer.call of <__main__.ConvolutionLayer object at 0x00000238FCEED5C0>> and will run it as-is.\n",
      "Please report this to the TensorFlow team. When filing the bug, set the verbosity to 10 (on Linux, `export AUTOGRAPH_VERBOSITY=10`) and attach the full output.\n",
      "Cause: Mangled names are not yet supported by AutoGraph\n",
      "WARNING: AutoGraph could not transform <bound method ConvolutionLayer.call of <__main__.ConvolutionLayer object at 0x00000238FCEED5C0>> and will run it as-is.\n",
      "Please report this to the TensorFlow team. When filing the bug, set the verbosity to 10 (on Linux, `export AUTOGRAPH_VERBOSITY=10`) and attach the full output.\n",
      "Cause: Mangled names are not yet supported by AutoGraph\n",
      "WARNING:tensorflow:AutoGraph could not transform <bound method ConvolutionLayer.call of <__main__.ConvolutionLayer object at 0x00000238FD218400>> and will run it as-is.\n",
      "Please report this to the TensorFlow team. When filing the bug, set the verbosity to 10 (on Linux, `export AUTOGRAPH_VERBOSITY=10`) and attach the full output.\n",
      "Cause: Mangled names are not yet supported by AutoGraph\n",
      "WARNING: AutoGraph could not transform <bound method ConvolutionLayer.call of <__main__.ConvolutionLayer object at 0x00000238FD218400>> and will run it as-is.\n",
      "Please report this to the TensorFlow team. When filing the bug, set the verbosity to 10 (on Linux, `export AUTOGRAPH_VERBOSITY=10`) and attach the full output.\n",
      "Cause: Mangled names are not yet supported by AutoGraph\n",
      "WARNING:tensorflow:AutoGraph could not transform <bound method ConvolutionLayer.call of <__main__.ConvolutionLayer object at 0x00000238FC888DA0>> and will run it as-is.\n",
      "Please report this to the TensorFlow team. When filing the bug, set the verbosity to 10 (on Linux, `export AUTOGRAPH_VERBOSITY=10`) and attach the full output.\n",
      "Cause: Mangled names are not yet supported by AutoGraph\n",
      "WARNING: AutoGraph could not transform <bound method ConvolutionLayer.call of <__main__.ConvolutionLayer object at 0x00000238FC888DA0>> and will run it as-is.\n",
      "Please report this to the TensorFlow team. When filing the bug, set the verbosity to 10 (on Linux, `export AUTOGRAPH_VERBOSITY=10`) and attach the full output.\n",
      "Cause: Mangled names are not yet supported by AutoGraph\n",
      "WARNING:tensorflow:AutoGraph could not transform <bound method HeadLayer.call of <__main__.HeadLayer object at 0x00000238FD05B400>> and will run it as-is.\n",
      "Please report this to the TensorFlow team. When filing the bug, set the verbosity to 10 (on Linux, `export AUTOGRAPH_VERBOSITY=10`) and attach the full output.\n",
      "Cause: Mangled names are not yet supported by AutoGraph\n",
      "WARNING: AutoGraph could not transform <bound method HeadLayer.call of <__main__.HeadLayer object at 0x00000238FD05B400>> and will run it as-is.\n",
      "Please report this to the TensorFlow team. When filing the bug, set the verbosity to 10 (on Linux, `export AUTOGRAPH_VERBOSITY=10`) and attach the full output.\n",
      "Cause: Mangled names are not yet supported by AutoGraph\n",
      "WARNING:tensorflow:AutoGraph could not transform <bound method CifarModel.call of <__main__.CifarModel object at 0x00000238FCF57160>> and will run it as-is.\n",
      "Please report this to the TensorFlow team. When filing the bug, set the verbosity to 10 (on Linux, `export AUTOGRAPH_VERBOSITY=10`) and attach the full output.\n",
      "Cause: Mangled names are not yet supported by AutoGraph\n",
      "WARNING: AutoGraph could not transform <bound method CifarModel.call of <__main__.CifarModel object at 0x00000238FCF57160>> and will run it as-is.\n",
      "Please report this to the TensorFlow team. When filing the bug, set the verbosity to 10 (on Linux, `export AUTOGRAPH_VERBOSITY=10`) and attach the full output.\n",
      "Cause: Mangled names are not yet supported by AutoGraph\n",
      "WARNING:tensorflow:AutoGraph could not transform <bound method ConvolutionLayer.call of <__main__.ConvolutionLayer object at 0x00000238FCEED5C0>> and will run it as-is.\n",
      "Please report this to the TensorFlow team. When filing the bug, set the verbosity to 10 (on Linux, `export AUTOGRAPH_VERBOSITY=10`) and attach the full output.\n",
      "Cause: Mangled names are not yet supported by AutoGraph\n"
     ]
    },
    {
     "name": "stdout",
     "output_type": "stream",
     "text": [
      "WARNING: AutoGraph could not transform <bound method ConvolutionLayer.call of <__main__.ConvolutionLayer object at 0x00000238FCEED5C0>> and will run it as-is.\n",
      "Please report this to the TensorFlow team. When filing the bug, set the verbosity to 10 (on Linux, `export AUTOGRAPH_VERBOSITY=10`) and attach the full output.\n",
      "Cause: Mangled names are not yet supported by AutoGraph\n",
      "WARNING:tensorflow:AutoGraph could not transform <bound method ConvolutionLayer.call of <__main__.ConvolutionLayer object at 0x00000238FD218400>> and will run it as-is.\n",
      "Please report this to the TensorFlow team. When filing the bug, set the verbosity to 10 (on Linux, `export AUTOGRAPH_VERBOSITY=10`) and attach the full output.\n",
      "Cause: Mangled names are not yet supported by AutoGraph\n",
      "WARNING: AutoGraph could not transform <bound method ConvolutionLayer.call of <__main__.ConvolutionLayer object at 0x00000238FD218400>> and will run it as-is.\n",
      "Please report this to the TensorFlow team. When filing the bug, set the verbosity to 10 (on Linux, `export AUTOGRAPH_VERBOSITY=10`) and attach the full output.\n",
      "Cause: Mangled names are not yet supported by AutoGraph\n",
      "WARNING:tensorflow:AutoGraph could not transform <bound method ConvolutionLayer.call of <__main__.ConvolutionLayer object at 0x00000238FC888DA0>> and will run it as-is.\n",
      "Please report this to the TensorFlow team. When filing the bug, set the verbosity to 10 (on Linux, `export AUTOGRAPH_VERBOSITY=10`) and attach the full output.\n",
      "Cause: Mangled names are not yet supported by AutoGraph\n",
      "WARNING: AutoGraph could not transform <bound method ConvolutionLayer.call of <__main__.ConvolutionLayer object at 0x00000238FC888DA0>> and will run it as-is.\n",
      "Please report this to the TensorFlow team. When filing the bug, set the verbosity to 10 (on Linux, `export AUTOGRAPH_VERBOSITY=10`) and attach the full output.\n",
      "Cause: Mangled names are not yet supported by AutoGraph\n",
      "WARNING:tensorflow:AutoGraph could not transform <bound method HeadLayer.call of <__main__.HeadLayer object at 0x00000238FD05B400>> and will run it as-is.\n",
      "Please report this to the TensorFlow team. When filing the bug, set the verbosity to 10 (on Linux, `export AUTOGRAPH_VERBOSITY=10`) and attach the full output.\n",
      "Cause: Mangled names are not yet supported by AutoGraph\n",
      "WARNING: AutoGraph could not transform <bound method HeadLayer.call of <__main__.HeadLayer object at 0x00000238FD05B400>> and will run it as-is.\n",
      "Please report this to the TensorFlow team. When filing the bug, set the verbosity to 10 (on Linux, `export AUTOGRAPH_VERBOSITY=10`) and attach the full output.\n",
      "Cause: Mangled names are not yet supported by AutoGraph\n",
      "WARNING:tensorflow:AutoGraph could not transform <bound method CifarModel.call of <__main__.CifarModel object at 0x00000238FCF57160>> and will run it as-is.\n",
      "Please report this to the TensorFlow team. When filing the bug, set the verbosity to 10 (on Linux, `export AUTOGRAPH_VERBOSITY=10`) and attach the full output.\n",
      "Cause: Mangled names are not yet supported by AutoGraph\n",
      "WARNING: AutoGraph could not transform <bound method CifarModel.call of <__main__.CifarModel object at 0x00000238FCF57160>> and will run it as-is.\n",
      "Please report this to the TensorFlow team. When filing the bug, set the verbosity to 10 (on Linux, `export AUTOGRAPH_VERBOSITY=10`) and attach the full output.\n",
      "Cause: Mangled names are not yet supported by AutoGraph\n",
      "WARNING:tensorflow:AutoGraph could not transform <bound method ConvolutionLayer.call of <__main__.ConvolutionLayer object at 0x00000238FCEED5C0>> and will run it as-is.\n",
      "Please report this to the TensorFlow team. When filing the bug, set the verbosity to 10 (on Linux, `export AUTOGRAPH_VERBOSITY=10`) and attach the full output.\n",
      "Cause: Mangled names are not yet supported by AutoGraph\n",
      "WARNING: AutoGraph could not transform <bound method ConvolutionLayer.call of <__main__.ConvolutionLayer object at 0x00000238FCEED5C0>> and will run it as-is.\n",
      "Please report this to the TensorFlow team. When filing the bug, set the verbosity to 10 (on Linux, `export AUTOGRAPH_VERBOSITY=10`) and attach the full output.\n",
      "Cause: Mangled names are not yet supported by AutoGraph\n",
      "WARNING:tensorflow:AutoGraph could not transform <bound method ConvolutionLayer.call of <__main__.ConvolutionLayer object at 0x00000238FD218400>> and will run it as-is.\n",
      "Please report this to the TensorFlow team. When filing the bug, set the verbosity to 10 (on Linux, `export AUTOGRAPH_VERBOSITY=10`) and attach the full output.\n",
      "Cause: Mangled names are not yet supported by AutoGraph\n",
      "WARNING: AutoGraph could not transform <bound method ConvolutionLayer.call of <__main__.ConvolutionLayer object at 0x00000238FD218400>> and will run it as-is.\n",
      "Please report this to the TensorFlow team. When filing the bug, set the verbosity to 10 (on Linux, `export AUTOGRAPH_VERBOSITY=10`) and attach the full output.\n",
      "Cause: Mangled names are not yet supported by AutoGraph\n",
      "WARNING:tensorflow:AutoGraph could not transform <bound method ConvolutionLayer.call of <__main__.ConvolutionLayer object at 0x00000238FC888DA0>> and will run it as-is.\n",
      "Please report this to the TensorFlow team. When filing the bug, set the verbosity to 10 (on Linux, `export AUTOGRAPH_VERBOSITY=10`) and attach the full output.\n",
      "Cause: Mangled names are not yet supported by AutoGraph\n",
      "WARNING: AutoGraph could not transform <bound method ConvolutionLayer.call of <__main__.ConvolutionLayer object at 0x00000238FC888DA0>> and will run it as-is.\n",
      "Please report this to the TensorFlow team. When filing the bug, set the verbosity to 10 (on Linux, `export AUTOGRAPH_VERBOSITY=10`) and attach the full output.\n",
      "Cause: Mangled names are not yet supported by AutoGraph\n",
      "WARNING:tensorflow:AutoGraph could not transform <bound method HeadLayer.call of <__main__.HeadLayer object at 0x00000238FD05B400>> and will run it as-is.\n",
      "Please report this to the TensorFlow team. When filing the bug, set the verbosity to 10 (on Linux, `export AUTOGRAPH_VERBOSITY=10`) and attach the full output.\n",
      "Cause: Mangled names are not yet supported by AutoGraph\n",
      "WARNING: AutoGraph could not transform <bound method HeadLayer.call of <__main__.HeadLayer object at 0x00000238FD05B400>> and will run it as-is.\n",
      "Please report this to the TensorFlow team. When filing the bug, set the verbosity to 10 (on Linux, `export AUTOGRAPH_VERBOSITY=10`) and attach the full output.\n",
      "Cause: Mangled names are not yet supported by AutoGraph\n",
      "WARNING:tensorflow:AutoGraph could not transform <bound method CifarModel.call of <__main__.CifarModel object at 0x00000238FCF57160>> and will run it as-is.\n",
      "Please report this to the TensorFlow team. When filing the bug, set the verbosity to 10 (on Linux, `export AUTOGRAPH_VERBOSITY=10`) and attach the full output.\n",
      "Cause: Mangled names are not yet supported by AutoGraph\n",
      "WARNING: AutoGraph could not transform <bound method CifarModel.call of <__main__.CifarModel object at 0x00000238FCF57160>> and will run it as-is.\n",
      "Please report this to the TensorFlow team. When filing the bug, set the verbosity to 10 (on Linux, `export AUTOGRAPH_VERBOSITY=10`) and attach the full output.\n",
      "Cause: Mangled names are not yet supported by AutoGraph\n",
      "WARNING:tensorflow:AutoGraph could not transform <bound method ConvolutionLayer.call of <__main__.ConvolutionLayer object at 0x00000238FCEED5C0>> and will run it as-is.\n",
      "Please report this to the TensorFlow team. When filing the bug, set the verbosity to 10 (on Linux, `export AUTOGRAPH_VERBOSITY=10`) and attach the full output.\n",
      "Cause: Mangled names are not yet supported by AutoGraph\n",
      "WARNING: AutoGraph could not transform <bound method ConvolutionLayer.call of <__main__.ConvolutionLayer object at 0x00000238FCEED5C0>> and will run it as-is.\n",
      "Please report this to the TensorFlow team. When filing the bug, set the verbosity to 10 (on Linux, `export AUTOGRAPH_VERBOSITY=10`) and attach the full output.\n",
      "Cause: Mangled names are not yet supported by AutoGraph\n",
      "WARNING:tensorflow:AutoGraph could not transform <bound method ConvolutionLayer.call of <__main__.ConvolutionLayer object at 0x00000238FD218400>> and will run it as-is.\n",
      "Please report this to the TensorFlow team. When filing the bug, set the verbosity to 10 (on Linux, `export AUTOGRAPH_VERBOSITY=10`) and attach the full output.\n",
      "Cause: Mangled names are not yet supported by AutoGraph\n"
     ]
    },
    {
     "name": "stdout",
     "output_type": "stream",
     "text": [
      "WARNING: AutoGraph could not transform <bound method ConvolutionLayer.call of <__main__.ConvolutionLayer object at 0x00000238FD218400>> and will run it as-is.\n",
      "Please report this to the TensorFlow team. When filing the bug, set the verbosity to 10 (on Linux, `export AUTOGRAPH_VERBOSITY=10`) and attach the full output.\n",
      "Cause: Mangled names are not yet supported by AutoGraph\n",
      "WARNING:tensorflow:AutoGraph could not transform <bound method ConvolutionLayer.call of <__main__.ConvolutionLayer object at 0x00000238FC888DA0>> and will run it as-is.\n",
      "Please report this to the TensorFlow team. When filing the bug, set the verbosity to 10 (on Linux, `export AUTOGRAPH_VERBOSITY=10`) and attach the full output.\n",
      "Cause: Mangled names are not yet supported by AutoGraph\n",
      "WARNING: AutoGraph could not transform <bound method ConvolutionLayer.call of <__main__.ConvolutionLayer object at 0x00000238FC888DA0>> and will run it as-is.\n",
      "Please report this to the TensorFlow team. When filing the bug, set the verbosity to 10 (on Linux, `export AUTOGRAPH_VERBOSITY=10`) and attach the full output.\n",
      "Cause: Mangled names are not yet supported by AutoGraph\n",
      "WARNING:tensorflow:AutoGraph could not transform <bound method HeadLayer.call of <__main__.HeadLayer object at 0x00000238FD05B400>> and will run it as-is.\n",
      "Please report this to the TensorFlow team. When filing the bug, set the verbosity to 10 (on Linux, `export AUTOGRAPH_VERBOSITY=10`) and attach the full output.\n",
      "Cause: Mangled names are not yet supported by AutoGraph\n",
      "WARNING: AutoGraph could not transform <bound method HeadLayer.call of <__main__.HeadLayer object at 0x00000238FD05B400>> and will run it as-is.\n",
      "Please report this to the TensorFlow team. When filing the bug, set the verbosity to 10 (on Linux, `export AUTOGRAPH_VERBOSITY=10`) and attach the full output.\n",
      "Cause: Mangled names are not yet supported by AutoGraph\n",
      "For epoch: 1, the train loss is 301.420, & test loss is 49.886\n",
      "Time taken for 1 epoch 5.308398246765137 sec\n",
      "\n",
      "Val loss has been reduced from 100.000 to 49.886\n",
      "For epoch: 2, the train loss is 21.644, & test loss is 7.243\n",
      "Time taken for 1 epoch 3.79528546333313 sec\n",
      "\n",
      "Val loss has been reduced from 49.886 to 7.243\n",
      "For epoch: 3, the train loss is 5.060, & test loss is 2.465\n",
      "Time taken for 1 epoch 3.6002705097198486 sec\n",
      "\n",
      "Val loss has been reduced from 7.243 to 2.465\n",
      "For epoch: 4, the train loss is 2.343, & test loss is 2.213\n",
      "Time taken for 1 epoch 3.59727144241333 sec\n",
      "\n",
      "Val loss has been reduced from 2.465 to 2.213\n",
      "For epoch: 5, the train loss is 2.183, & test loss is 2.157\n",
      "Time taken for 1 epoch 3.577270269393921 sec\n",
      "\n",
      "Val loss has been reduced from 2.213 to 2.157\n",
      "For epoch: 6, the train loss is 2.131, & test loss is 2.118\n",
      "Time taken for 1 epoch 3.599271535873413 sec\n",
      "\n",
      "Val loss has been reduced from 2.157 to 2.118\n",
      "For epoch: 7, the train loss is 2.094, & test loss is 2.083\n",
      "Time taken for 1 epoch 3.600271224975586 sec\n",
      "\n",
      "Val loss has been reduced from 2.118 to 2.083\n",
      "For epoch: 8, the train loss is 2.060, & test loss is 2.047\n",
      "Time taken for 1 epoch 3.5572688579559326 sec\n",
      "\n",
      "Val loss has been reduced from 2.083 to 2.047\n",
      "For epoch: 9, the train loss is 2.026, & test loss is 2.012\n",
      "Time taken for 1 epoch 3.559774160385132 sec\n",
      "\n",
      "Val loss has been reduced from 2.047 to 2.012\n",
      "For epoch: 10, the train loss is 1.991, & test loss is 1.969\n",
      "Time taken for 1 epoch 3.5982720851898193 sec\n",
      "\n",
      "Val loss has been reduced from 2.012 to 1.969\n"
     ]
    },
    {
     "data": {
      "image/png": "[encoded data removed]",
      "text/plain": [
       "<Figure size 432x288 with 1 Axes>"
      ]
     },
     "metadata": {
      "needs_background": "light"
     },
     "output_type": "display_data"
    }
   ],
   "source": [
    "loss_plot = []\n",
    "test_loss_plot = []\n",
    "\n",
    "best_test_loss=100\n",
    "\n",
    "for epoch in range(0, EPOCHS):\n",
    "    start = time.time()\n",
    "    total_loss = 0\n",
    "    for (batch, (img_tensor, target)) in enumerate(train_dataset):\n",
    "        batch_loss, t_loss = train_step(img_tensor, target)\n",
    "        total_loss += t_loss\n",
    "            \n",
    "    avg_train_loss = total_loss / TRAIN_STEPS_PER_EPOCHS\n",
    "    loss_plot.append(avg_train_loss.numpy())    \n",
    "    test_loss = validation_loss(test_dataset)\n",
    "    test_loss_plot.append(test_loss.numpy())\n",
    "    \n",
    "    print ('For epoch: {}, the train loss is {:.3f}, & test loss is {:.3f}'.format(epoch+1,avg_train_loss,test_loss))\n",
    "    print ('Time taken for 1 epoch {} sec\\n'.format(time.time() - start))\n",
    "    \n",
    "    if test_loss < best_test_loss:\n",
    "        print('Val loss has been reduced from %.3f to %.3f' % (best_test_loss, test_loss))\n",
    "        best_test_loss = test_loss\n",
    "        ckpt_manager.save()\n",
    "        \n",
    "plt.plot(loss_plot)\n",
    "plt.plot(test_loss_plot)\n",
    "plt.xlabel('Epochs')\n",
    "plt.ylabel('Loss')\n",
    "plt.title('Loss Plot')\n",
    "plt.show()"
   ]
  },
  {
   "cell_type": "code",
   "execution_count": 158,
   "metadata": {
    "ExecuteTime": {
     "end_time": "2021-05-21T12:10:52.329655Z",
     "start_time": "2021-05-21T12:10:52.324654Z"
    }
   },
   "outputs": [
    {
     "data": {
      "text/plain": [
       "'../models/ckpts/cifar_10/ckpt-10'"
      ]
     },
     "execution_count": 158,
     "metadata": {},
     "output_type": "execute_result"
    }
   ],
   "source": [
    "path = ckpt_manager.latest_checkpoint\n",
    "path"
   ]
  },
  {
   "cell_type": "markdown",
   "metadata": {},
   "source": [
    "### Restore saved checkpoint"
   ]
  },
  {
   "cell_type": "code",
   "execution_count": 159,
   "metadata": {
    "ExecuteTime": {
     "end_time": "2021-05-21T12:10:53.620849Z",
     "start_time": "2021-05-21T12:10:53.532845Z"
    }
   },
   "outputs": [
    {
     "data": {
      "text/plain": [
       "<tensorflow.python.training.tracking.util.CheckpointLoadStatus at 0x238fcd24f98>"
      ]
     },
     "execution_count": 159,
     "metadata": {},
     "output_type": "execute_result"
    }
   ],
   "source": [
    "restor_ckpt = tf.train.Checkpoint(cifar_model=cifar_model, optimizer=adam)\n",
    "restor_ckpt.restore(path).assert_consumed()"
   ]
  },
  {
   "cell_type": "markdown",
   "metadata": {},
   "source": [
    "### Getting a prediction"
   ]
  },
  {
   "cell_type": "code",
   "execution_count": 179,
   "metadata": {
    "ExecuteTime": {
     "end_time": "2021-05-21T12:11:14.441703Z",
     "start_time": "2021-05-21T12:11:14.301694Z"
    }
   },
   "outputs": [
    {
     "name": "stdout",
     "output_type": "stream",
     "text": [
      "Real Label:  automobile\n"
     ]
    },
    {
     "data": {
      "text/plain": [
       "<matplotlib.image.AxesImage at 0x238fcf325c0>"
      ]
     },
     "execution_count": 179,
     "metadata": {},
     "output_type": "execute_result"
    },
    {
     "data": {
      "image/png": "[encoded data removed]",
      "text/plain": [
       "<Figure size 432x288 with 1 Axes>"
      ]
     },
     "metadata": {
      "needs_background": "light"
     },
     "output_type": "display_data"
    }
   ],
   "source": [
    "idx = np.random.randint(100)\n",
    "test_image = X_test[idx]\n",
    "real_label = y_test[idx]\n",
    "print('Real Label: ', label_dict[real_label[0]])\n",
    "plt.imshow(test_image)"
   ]
  },
  {
   "cell_type": "code",
   "execution_count": 180,
   "metadata": {
    "ExecuteTime": {
     "end_time": "2021-05-21T12:11:15.753853Z",
     "start_time": "2021-05-21T12:11:15.747855Z"
    }
   },
   "outputs": [],
   "source": [
    "def get_prediction(img):\n",
    "    img = np.expand_dims(img, 0)\n",
    "    preds = cifar_model.predict(img)\n",
    "    pred_arg = np.argmax(preds)\n",
    "    label = label_dict[pred_arg]\n",
    "    prob = np.max(preds) * 100\n",
    "    return {'label': label, 'probability': prob}"
   ]
  },
  {
   "cell_type": "code",
   "execution_count": 181,
   "metadata": {
    "ExecuteTime": {
     "end_time": "2021-05-21T12:11:15.988870Z",
     "start_time": "2021-05-21T12:11:15.942863Z"
    }
   },
   "outputs": [
    {
     "data": {
      "text/plain": [
       "{'label': 'automobile', 'probability': 100.0}"
      ]
     },
     "execution_count": 181,
     "metadata": {},
     "output_type": "execute_result"
    }
   ],
   "source": [
    "get_prediction(test_image)"
   ]
  },
  {
   "cell_type": "code",
   "execution_count": null,
   "metadata": {},
   "outputs": [],
   "source": []
  },
  {
   "cell_type": "code",
   "execution_count": null,
   "metadata": {},
   "outputs": [],
   "source": []
  }
 ],
 "metadata": {
  "kernelspec": {
   "display_name": "Python 3.6.5 64-bit ('coding': conda)",
   "language": "python",
   "name": "python36564bitcodingconda90fec841f47244198bb18477b4af99b4"
  },
  "language_info": {
   "codemirror_mode": {
    "name": "ipython",
    "version": 3
   },
   "file_extension": ".py",
   "mimetype": "text/x-python",
   "name": "python",
   "nbconvert_exporter": "python",
   "pygments_lexer": "ipython3",
   "version": "3.6.5"
  }
 },
 "nbformat": 4,
 "nbformat_minor": 4
}
