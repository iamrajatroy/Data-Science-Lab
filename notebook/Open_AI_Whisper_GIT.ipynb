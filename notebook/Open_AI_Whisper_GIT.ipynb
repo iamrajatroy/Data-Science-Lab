{
  "cells": [
    {
      "cell_type": "markdown",
      "metadata": {
        "id": "ToiBC3jZK1Yg"
      },
      "source": [
        "## Installing Whisper"
      ]
    },
    {
      "cell_type": "code",
      "execution_count": null,
      "metadata": {
        "id": "aXw5Ui2e0GGw"
      },
      "outputs": [],
      "source": [
        "!pip install git+https://github.com/openai/whisper.git"
      ]
    },
    {
      "cell_type": "markdown",
      "metadata": {
        "id": "X-0h-Ue8K_5L"
      },
      "source": [
        "## Import Packages"
      ]
    },
    {
      "cell_type": "code",
      "execution_count": null,
      "metadata": {
        "id": "UTpWflLr4Obx"
      },
      "outputs": [],
      "source": [
        "import whisper\n",
        "import numpy as np\n",
        "import os\n",
        "import time"
      ]
    },
    {
      "cell_type": "markdown",
      "metadata": {
        "id": "7JnyPuytLEqK"
      },
      "source": [
        "## Load Model"
      ]
    },
    {
      "cell_type": "code",
      "execution_count": null,
      "metadata": {
        "id": "uVVP1p5Zj3uH"
      },
      "outputs": [],
      "source": [
        "file_to_process = \"\""
      ]
    },
    {
      "cell_type": "code",
      "execution_count": null,
      "metadata": {
        "id": "t8OQlu-o6xhP"
      },
      "outputs": [],
      "source": [
        "model = whisper.load_model(\"medium\")\n",
        "print(\n",
        "    f\"Model is {'multilingual' if model.is_multilingual else 'English-only'} \"\n",
        "    f\"and has {sum(np.prod(p.shape) for p in model.parameters()):,} parameters.\"\n",
        ")"
      ]
    },
    {
      "cell_type": "markdown",
      "metadata": {
        "id": "c66TLi4gLMD2"
      },
      "source": [
        "## Transcribe"
      ]
    },
    {
      "cell_type": "code",
      "execution_count": null,
      "metadata": {
        "id": "sP7anqL17BPG"
      },
      "outputs": [],
      "source": [
        "transcription = model.transcribe(file_to_process)[\"text\"]"
      ]
    },
    {
      "cell_type": "code",
      "execution_count": null,
      "metadata": {
        "id": "OkfGGiUMA6cf"
      },
      "outputs": [],
      "source": [
        "transcription"
      ]
    },
    {
      "cell_type": "markdown",
      "metadata": {
        "id": "fBrJIe-xLPBM"
      },
      "source": [
        "## Translate"
      ]
    },
    {
      "cell_type": "code",
      "execution_count": null,
      "metadata": {
        "id": "LKxd6RMcZR0D"
      },
      "outputs": [],
      "source": [
        "translation = model.transcribe(file_path, language='fr')[\"text\"]"
      ]
    },
    {
      "cell_type": "code",
      "execution_count": null,
      "metadata": {
        "id": "BThAAHXq7a6x"
      },
      "outputs": [],
      "source": [
        "translation"
      ]
    },
    {
      "cell_type": "code",
      "execution_count": null,
      "metadata": {
        "id": "XupHvcaO7BSJ"
      },
      "outputs": [],
      "source": [
        "file_path = ''\n",
        "file_path"
      ]
    },
    {
      "cell_type": "code",
      "execution_count": null,
      "metadata": {
        "id": "3MS7BVND7BUw"
      },
      "outputs": [],
      "source": [
        "transcription = model.transcribe(file_path)[\"text\"]"
      ]
    },
    {
      "cell_type": "code",
      "execution_count": null,
      "metadata": {
        "id": "Wg7BL8fD63oM"
      },
      "outputs": [],
      "source": [
        "transcription"
      ]
    },
    {
      "cell_type": "code",
      "source": [],
      "metadata": {
        "id": "LEPGS89jyk-p"
      },
      "execution_count": null,
      "outputs": []
    }
  ],
  "metadata": {
    "accelerator": "GPU",
    "colab": {
      "provenance": []
    },
    "kernelspec": {
      "display_name": "Python 3",
      "name": "python3"
    },
    "language_info": {
      "name": "python"
    }
  },
  "nbformat": 4,
  "nbformat_minor": 0
}